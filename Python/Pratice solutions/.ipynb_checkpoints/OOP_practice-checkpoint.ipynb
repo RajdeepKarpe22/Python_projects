{
 "cells": [
  {
   "cell_type": "code",
   "execution_count": 3,
   "metadata": {},
   "outputs": [],
   "source": [
    "class Square():\n",
    "    def __init__(self,side):\n",
    "        self.side = side\n",
    "    \n",
    "    def area(self):\n",
    "         return self.side**2\n",
    "    def perimeter(self):\n",
    "        self.perimeter=4*self.side\n",
    "        print(\"Perimeter is: {}\".format(self.perimeter))"
   ]
  },
  {
   "cell_type": "code",
   "execution_count": 6,
   "metadata": {},
   "outputs": [],
   "source": [
    "class Rectangle():\n",
    "    def __init__(self,length,width):\n",
    "        self.length = length\n",
    "        self.width = width\n",
    "        \n",
    "    def AreaOfRectangle(self):\n",
    "        return self.length*self.width\n",
    "    \n",
    "    def PerimeterOfRectangle(self):\n",
    "        perimeter = 2*(self.length+self.width)\n",
    "        print(\"Perimeter of rectangle is : {}\".format(perimeter))"
   ]
  },
  {
   "cell_type": "code",
   "execution_count": 7,
   "metadata": {
    "code_folding": []
   },
   "outputs": [],
   "source": [
    "# Calling one class from another. or Passing class as a paramtere to other class\n",
    "class Shape():\n",
    "    def __init__(self,Square,Rectangle):\n",
    "        self.Square = Square\n",
    "        self.Rectangle = Rectangle\n"
   ]
  },
  {
   "cell_type": "code",
   "execution_count": 8,
   "metadata": {},
   "outputs": [],
   "source": [
    "shape = Shape(Square,Rectangle)"
   ]
  },
  {
   "cell_type": "code",
   "execution_count": 11,
   "metadata": {},
   "outputs": [
    {
     "data": {
      "text/plain": [
       "16"
      ]
     },
     "execution_count": 11,
     "metadata": {},
     "output_type": "execute_result"
    }
   ],
   "source": [
    "shape.Square(4).area()"
   ]
  },
  {
   "cell_type": "code",
   "execution_count": 12,
   "metadata": {},
   "outputs": [
    {
     "name": "stdout",
     "output_type": "stream",
     "text": [
      "Perimeter of rectangle is : 22\n"
     ]
    }
   ],
   "source": [
    "shape.Rectangle(5,6).PerimeterOfRectangle()"
   ]
  },
  {
   "cell_type": "code",
   "execution_count": null,
   "metadata": {},
   "outputs": [],
   "source": []
  }
 ],
 "metadata": {
  "kernelspec": {
   "display_name": "Python 3",
   "language": "python",
   "name": "python3"
  },
  "language_info": {
   "codemirror_mode": {
    "name": "ipython",
    "version": 3
   },
   "file_extension": ".py",
   "mimetype": "text/x-python",
   "name": "python",
   "nbconvert_exporter": "python",
   "pygments_lexer": "ipython3",
   "version": "3.7.6"
  },
  "toc": {
   "base_numbering": 1,
   "nav_menu": {},
   "number_sections": true,
   "sideBar": true,
   "skip_h1_title": false,
   "title_cell": "Table of Contents",
   "title_sidebar": "Contents",
   "toc_cell": false,
   "toc_position": {},
   "toc_section_display": true,
   "toc_window_display": false
  }
 },
 "nbformat": 4,
 "nbformat_minor": 4
}
