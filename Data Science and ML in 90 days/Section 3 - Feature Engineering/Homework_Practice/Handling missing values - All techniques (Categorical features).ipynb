{
 "cells": [
  {
   "cell_type": "markdown",
   "metadata": {},
   "source": [
    "# Handling missing values using all techniques (Categorical features)"
   ]
  },
  {
   "cell_type": "markdown",
   "metadata": {},
   "source": [
    "## Frequent category imputation"
   ]
  },
  {
   "cell_type": "code",
   "execution_count": 50,
   "metadata": {},
   "outputs": [
    {
     "data": {
      "application/javascript": [
       "\n",
       "        if (window._pyforest_update_imports_cell) { window._pyforest_update_imports_cell('from sklearn.preprocessing import OneHotEncoder\\nimport re\\nfrom sklearn.model_selection import train_test_split\\nimport bokeh\\nimport pandas as pd\\nimport matplotlib.pyplot as plt\\nimport numpy as np\\nimport nltk\\nimport pickle'); }\n",
       "    "
      ],
      "text/plain": [
       "<IPython.core.display.Javascript object>"
      ]
     },
     "metadata": {},
     "output_type": "display_data"
    },
    {
     "data": {
      "text/html": [
       "<div>\n",
       "<style scoped>\n",
       "    .dataframe tbody tr th:only-of-type {\n",
       "        vertical-align: middle;\n",
       "    }\n",
       "\n",
       "    .dataframe tbody tr th {\n",
       "        vertical-align: top;\n",
       "    }\n",
       "\n",
       "    .dataframe thead th {\n",
       "        text-align: right;\n",
       "    }\n",
       "</style>\n",
       "<table border=\"1\" class=\"dataframe\">\n",
       "  <thead>\n",
       "    <tr style=\"text-align: right;\">\n",
       "      <th></th>\n",
       "      <th>Id</th>\n",
       "      <th>MSSubClass</th>\n",
       "      <th>MSZoning</th>\n",
       "      <th>LotFrontage</th>\n",
       "      <th>LotArea</th>\n",
       "      <th>Street</th>\n",
       "      <th>Alley</th>\n",
       "      <th>LotShape</th>\n",
       "      <th>LandContour</th>\n",
       "      <th>Utilities</th>\n",
       "      <th>...</th>\n",
       "      <th>PoolArea</th>\n",
       "      <th>PoolQC</th>\n",
       "      <th>Fence</th>\n",
       "      <th>MiscFeature</th>\n",
       "      <th>MiscVal</th>\n",
       "      <th>MoSold</th>\n",
       "      <th>YrSold</th>\n",
       "      <th>SaleType</th>\n",
       "      <th>SaleCondition</th>\n",
       "      <th>SalePrice</th>\n",
       "    </tr>\n",
       "  </thead>\n",
       "  <tbody>\n",
       "    <tr>\n",
       "      <th>0</th>\n",
       "      <td>1</td>\n",
       "      <td>60</td>\n",
       "      <td>RL</td>\n",
       "      <td>65.0</td>\n",
       "      <td>8450</td>\n",
       "      <td>Pave</td>\n",
       "      <td>NaN</td>\n",
       "      <td>Reg</td>\n",
       "      <td>Lvl</td>\n",
       "      <td>AllPub</td>\n",
       "      <td>...</td>\n",
       "      <td>0</td>\n",
       "      <td>NaN</td>\n",
       "      <td>NaN</td>\n",
       "      <td>NaN</td>\n",
       "      <td>0</td>\n",
       "      <td>2</td>\n",
       "      <td>2008</td>\n",
       "      <td>WD</td>\n",
       "      <td>Normal</td>\n",
       "      <td>208500</td>\n",
       "    </tr>\n",
       "    <tr>\n",
       "      <th>1</th>\n",
       "      <td>2</td>\n",
       "      <td>20</td>\n",
       "      <td>RL</td>\n",
       "      <td>80.0</td>\n",
       "      <td>9600</td>\n",
       "      <td>Pave</td>\n",
       "      <td>NaN</td>\n",
       "      <td>Reg</td>\n",
       "      <td>Lvl</td>\n",
       "      <td>AllPub</td>\n",
       "      <td>...</td>\n",
       "      <td>0</td>\n",
       "      <td>NaN</td>\n",
       "      <td>NaN</td>\n",
       "      <td>NaN</td>\n",
       "      <td>0</td>\n",
       "      <td>5</td>\n",
       "      <td>2007</td>\n",
       "      <td>WD</td>\n",
       "      <td>Normal</td>\n",
       "      <td>181500</td>\n",
       "    </tr>\n",
       "    <tr>\n",
       "      <th>2</th>\n",
       "      <td>3</td>\n",
       "      <td>60</td>\n",
       "      <td>RL</td>\n",
       "      <td>68.0</td>\n",
       "      <td>11250</td>\n",
       "      <td>Pave</td>\n",
       "      <td>NaN</td>\n",
       "      <td>IR1</td>\n",
       "      <td>Lvl</td>\n",
       "      <td>AllPub</td>\n",
       "      <td>...</td>\n",
       "      <td>0</td>\n",
       "      <td>NaN</td>\n",
       "      <td>NaN</td>\n",
       "      <td>NaN</td>\n",
       "      <td>0</td>\n",
       "      <td>9</td>\n",
       "      <td>2008</td>\n",
       "      <td>WD</td>\n",
       "      <td>Normal</td>\n",
       "      <td>223500</td>\n",
       "    </tr>\n",
       "    <tr>\n",
       "      <th>3</th>\n",
       "      <td>4</td>\n",
       "      <td>70</td>\n",
       "      <td>RL</td>\n",
       "      <td>60.0</td>\n",
       "      <td>9550</td>\n",
       "      <td>Pave</td>\n",
       "      <td>NaN</td>\n",
       "      <td>IR1</td>\n",
       "      <td>Lvl</td>\n",
       "      <td>AllPub</td>\n",
       "      <td>...</td>\n",
       "      <td>0</td>\n",
       "      <td>NaN</td>\n",
       "      <td>NaN</td>\n",
       "      <td>NaN</td>\n",
       "      <td>0</td>\n",
       "      <td>2</td>\n",
       "      <td>2006</td>\n",
       "      <td>WD</td>\n",
       "      <td>Abnorml</td>\n",
       "      <td>140000</td>\n",
       "    </tr>\n",
       "    <tr>\n",
       "      <th>4</th>\n",
       "      <td>5</td>\n",
       "      <td>60</td>\n",
       "      <td>RL</td>\n",
       "      <td>84.0</td>\n",
       "      <td>14260</td>\n",
       "      <td>Pave</td>\n",
       "      <td>NaN</td>\n",
       "      <td>IR1</td>\n",
       "      <td>Lvl</td>\n",
       "      <td>AllPub</td>\n",
       "      <td>...</td>\n",
       "      <td>0</td>\n",
       "      <td>NaN</td>\n",
       "      <td>NaN</td>\n",
       "      <td>NaN</td>\n",
       "      <td>0</td>\n",
       "      <td>12</td>\n",
       "      <td>2008</td>\n",
       "      <td>WD</td>\n",
       "      <td>Normal</td>\n",
       "      <td>250000</td>\n",
       "    </tr>\n",
       "  </tbody>\n",
       "</table>\n",
       "<p>5 rows × 81 columns</p>\n",
       "</div>"
      ],
      "text/plain": [
       "   Id  MSSubClass MSZoning  LotFrontage  LotArea Street Alley LotShape  \\\n",
       "0   1          60       RL         65.0     8450   Pave   NaN      Reg   \n",
       "1   2          20       RL         80.0     9600   Pave   NaN      Reg   \n",
       "2   3          60       RL         68.0    11250   Pave   NaN      IR1   \n",
       "3   4          70       RL         60.0     9550   Pave   NaN      IR1   \n",
       "4   5          60       RL         84.0    14260   Pave   NaN      IR1   \n",
       "\n",
       "  LandContour Utilities  ... PoolArea PoolQC Fence MiscFeature MiscVal MoSold  \\\n",
       "0         Lvl    AllPub  ...        0    NaN   NaN         NaN       0      2   \n",
       "1         Lvl    AllPub  ...        0    NaN   NaN         NaN       0      5   \n",
       "2         Lvl    AllPub  ...        0    NaN   NaN         NaN       0      9   \n",
       "3         Lvl    AllPub  ...        0    NaN   NaN         NaN       0      2   \n",
       "4         Lvl    AllPub  ...        0    NaN   NaN         NaN       0     12   \n",
       "\n",
       "  YrSold  SaleType  SaleCondition  SalePrice  \n",
       "0   2008        WD         Normal     208500  \n",
       "1   2007        WD         Normal     181500  \n",
       "2   2008        WD         Normal     223500  \n",
       "3   2006        WD        Abnorml     140000  \n",
       "4   2008        WD         Normal     250000  \n",
       "\n",
       "[5 rows x 81 columns]"
      ]
     },
     "execution_count": 50,
     "metadata": {},
     "output_type": "execute_result"
    }
   ],
   "source": [
    "df = pd.read_csv(\"loan.csv\")\n",
    "df.head()"
   ]
  },
  {
   "cell_type": "code",
   "execution_count": 51,
   "metadata": {},
   "outputs": [
    {
     "data": {
      "text/plain": [
       "Index(['Id', 'MSSubClass', 'MSZoning', 'LotFrontage', 'LotArea', 'Street',\n",
       "       'Alley', 'LotShape', 'LandContour', 'Utilities', 'LotConfig',\n",
       "       'LandSlope', 'Neighborhood', 'Condition1', 'Condition2', 'BldgType',\n",
       "       'HouseStyle', 'OverallQual', 'OverallCond', 'YearBuilt', 'YearRemodAdd',\n",
       "       'RoofStyle', 'RoofMatl', 'Exterior1st', 'Exterior2nd', 'MasVnrType',\n",
       "       'MasVnrArea', 'ExterQual', 'ExterCond', 'Foundation', 'BsmtQual',\n",
       "       'BsmtCond', 'BsmtExposure', 'BsmtFinType1', 'BsmtFinSF1',\n",
       "       'BsmtFinType2', 'BsmtFinSF2', 'BsmtUnfSF', 'TotalBsmtSF', 'Heating',\n",
       "       'HeatingQC', 'CentralAir', 'Electrical', '1stFlrSF', '2ndFlrSF',\n",
       "       'LowQualFinSF', 'GrLivArea', 'BsmtFullBath', 'BsmtHalfBath', 'FullBath',\n",
       "       'HalfBath', 'BedroomAbvGr', 'KitchenAbvGr', 'KitchenQual',\n",
       "       'TotRmsAbvGrd', 'Functional', 'Fireplaces', 'FireplaceQu', 'GarageType',\n",
       "       'GarageYrBlt', 'GarageFinish', 'GarageCars', 'GarageArea', 'GarageQual',\n",
       "       'GarageCond', 'PavedDrive', 'WoodDeckSF', 'OpenPorchSF',\n",
       "       'EnclosedPorch', '3SsnPorch', 'ScreenPorch', 'PoolArea', 'PoolQC',\n",
       "       'Fence', 'MiscFeature', 'MiscVal', 'MoSold', 'YrSold', 'SaleType',\n",
       "       'SaleCondition', 'SalePrice'],\n",
       "      dtype='object')"
      ]
     },
     "execution_count": 51,
     "metadata": {},
     "output_type": "execute_result"
    }
   ],
   "source": [
    "df.columns"
   ]
  },
  {
   "cell_type": "code",
   "execution_count": 52,
   "metadata": {},
   "outputs": [
    {
     "data": {
      "application/javascript": [
       "\n",
       "        if (window._pyforest_update_imports_cell) { window._pyforest_update_imports_cell('from sklearn.preprocessing import OneHotEncoder\\nimport re\\nfrom sklearn.model_selection import train_test_split\\nimport bokeh\\nimport pandas as pd\\nimport matplotlib.pyplot as plt\\nimport numpy as np\\nimport nltk\\nimport pickle'); }\n",
       "    "
      ],
      "text/plain": [
       "<IPython.core.display.Javascript object>"
      ]
     },
     "metadata": {},
     "output_type": "display_data"
    }
   ],
   "source": [
    "df = pd.read_csv(\"loan.csv\",usecols=['BsmtQual','FireplaceQu','GarageType','SalePrice'])"
   ]
  },
  {
   "cell_type": "code",
   "execution_count": 53,
   "metadata": {},
   "outputs": [
    {
     "data": {
      "text/html": [
       "<div>\n",
       "<style scoped>\n",
       "    .dataframe tbody tr th:only-of-type {\n",
       "        vertical-align: middle;\n",
       "    }\n",
       "\n",
       "    .dataframe tbody tr th {\n",
       "        vertical-align: top;\n",
       "    }\n",
       "\n",
       "    .dataframe thead th {\n",
       "        text-align: right;\n",
       "    }\n",
       "</style>\n",
       "<table border=\"1\" class=\"dataframe\">\n",
       "  <thead>\n",
       "    <tr style=\"text-align: right;\">\n",
       "      <th></th>\n",
       "      <th>BsmtQual</th>\n",
       "      <th>FireplaceQu</th>\n",
       "      <th>GarageType</th>\n",
       "      <th>SalePrice</th>\n",
       "    </tr>\n",
       "  </thead>\n",
       "  <tbody>\n",
       "    <tr>\n",
       "      <th>0</th>\n",
       "      <td>Gd</td>\n",
       "      <td>NaN</td>\n",
       "      <td>Attchd</td>\n",
       "      <td>208500</td>\n",
       "    </tr>\n",
       "    <tr>\n",
       "      <th>1</th>\n",
       "      <td>Gd</td>\n",
       "      <td>TA</td>\n",
       "      <td>Attchd</td>\n",
       "      <td>181500</td>\n",
       "    </tr>\n",
       "    <tr>\n",
       "      <th>2</th>\n",
       "      <td>Gd</td>\n",
       "      <td>TA</td>\n",
       "      <td>Attchd</td>\n",
       "      <td>223500</td>\n",
       "    </tr>\n",
       "    <tr>\n",
       "      <th>3</th>\n",
       "      <td>TA</td>\n",
       "      <td>Gd</td>\n",
       "      <td>Detchd</td>\n",
       "      <td>140000</td>\n",
       "    </tr>\n",
       "    <tr>\n",
       "      <th>4</th>\n",
       "      <td>Gd</td>\n",
       "      <td>TA</td>\n",
       "      <td>Attchd</td>\n",
       "      <td>250000</td>\n",
       "    </tr>\n",
       "  </tbody>\n",
       "</table>\n",
       "</div>"
      ],
      "text/plain": [
       "  BsmtQual FireplaceQu GarageType  SalePrice\n",
       "0       Gd         NaN     Attchd     208500\n",
       "1       Gd          TA     Attchd     181500\n",
       "2       Gd          TA     Attchd     223500\n",
       "3       TA          Gd     Detchd     140000\n",
       "4       Gd          TA     Attchd     250000"
      ]
     },
     "execution_count": 53,
     "metadata": {},
     "output_type": "execute_result"
    }
   ],
   "source": [
    "df.head()"
   ]
  },
  {
   "cell_type": "code",
   "execution_count": 54,
   "metadata": {},
   "outputs": [
    {
     "data": {
      "text/plain": [
       "BsmtQual        37\n",
       "FireplaceQu    690\n",
       "GarageType      81\n",
       "SalePrice        0\n",
       "dtype: int64"
      ]
     },
     "execution_count": 54,
     "metadata": {},
     "output_type": "execute_result"
    }
   ],
   "source": [
    "df.isnull().sum()"
   ]
  },
  {
   "cell_type": "code",
   "execution_count": 55,
   "metadata": {},
   "outputs": [
    {
     "data": {
      "text/plain": [
       "(1460, 4)"
      ]
     },
     "execution_count": 55,
     "metadata": {},
     "output_type": "execute_result"
    }
   ],
   "source": [
    "df.shape"
   ]
  },
  {
   "cell_type": "code",
   "execution_count": 56,
   "metadata": {},
   "outputs": [
    {
     "data": {
      "text/plain": [
       "SalePrice      0.000000\n",
       "BsmtQual       0.025342\n",
       "GarageType     0.055479\n",
       "FireplaceQu    0.472603\n",
       "dtype: float64"
      ]
     },
     "execution_count": 56,
     "metadata": {},
     "output_type": "execute_result"
    }
   ],
   "source": [
    "df.isnull().mean().sort_values(ascending = True)"
   ]
  },
  {
   "cell_type": "code",
   "execution_count": 57,
   "metadata": {},
   "outputs": [
    {
     "data": {
      "text/plain": [
       "<matplotlib.axes._subplots.AxesSubplot at 0x2224dd03a48>"
      ]
     },
     "execution_count": 57,
     "metadata": {},
     "output_type": "execute_result"
    },
    {
     "data": {
      "image/png": "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\n",
      "text/plain": [
       "<Figure size 432x288 with 1 Axes>"
      ]
     },
     "metadata": {
      "needs_background": "light"
     },
     "output_type": "display_data"
    }
   ],
   "source": [
    "df['BsmtQual'].value_counts().plot.bar()"
   ]
  },
  {
   "cell_type": "code",
   "execution_count": 58,
   "metadata": {},
   "outputs": [
    {
     "data": {
      "text/plain": [
       "<matplotlib.axes._subplots.AxesSubplot at 0x2224d32e588>"
      ]
     },
     "execution_count": 58,
     "metadata": {},
     "output_type": "execute_result"
    },
    {
     "data": {
      "image/png": "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\n",
      "text/plain": [
       "<Figure size 432x288 with 1 Axes>"
      ]
     },
     "metadata": {
      "needs_background": "light"
     },
     "output_type": "display_data"
    }
   ],
   "source": [
    "df['FireplaceQu'].value_counts().plot.bar()"
   ]
  },
  {
   "cell_type": "code",
   "execution_count": 59,
   "metadata": {},
   "outputs": [
    {
     "data": {
      "text/plain": [
       "<matplotlib.axes._subplots.AxesSubplot at 0x2224e8cab08>"
      ]
     },
     "execution_count": 59,
     "metadata": {},
     "output_type": "execute_result"
    },
    {
     "data": {
      "image/png": "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\n",
      "text/plain": [
       "<Figure size 432x288 with 1 Axes>"
      ]
     },
     "metadata": {
      "needs_background": "light"
     },
     "output_type": "display_data"
    }
   ],
   "source": [
    "df['GarageType'].value_counts().plot.bar()"
   ]
  },
  {
   "cell_type": "code",
   "execution_count": 60,
   "metadata": {},
   "outputs": [
    {
     "data": {
      "text/plain": [
       "'Attchd'"
      ]
     },
     "execution_count": 60,
     "metadata": {},
     "output_type": "execute_result"
    }
   ],
   "source": [
    "df['GarageType'].value_counts().index[0]"
   ]
  },
  {
   "cell_type": "code",
   "execution_count": 61,
   "metadata": {},
   "outputs": [],
   "source": [
    "def impute_freq(df,variable):\n",
    "    most_freq = df[variable].value_counts().index[0]\n",
    "    df[variable] = df[variable].fillna(most_freq)"
   ]
  },
  {
   "cell_type": "code",
   "execution_count": 62,
   "metadata": {},
   "outputs": [],
   "source": [
    "for feature in ['BsmtQual','FireplaceQu','GarageType']:\n",
    "    impute_freq(df,feature)"
   ]
  },
  {
   "cell_type": "code",
   "execution_count": 63,
   "metadata": {},
   "outputs": [
    {
     "data": {
      "text/html": [
       "<div>\n",
       "<style scoped>\n",
       "    .dataframe tbody tr th:only-of-type {\n",
       "        vertical-align: middle;\n",
       "    }\n",
       "\n",
       "    .dataframe tbody tr th {\n",
       "        vertical-align: top;\n",
       "    }\n",
       "\n",
       "    .dataframe thead th {\n",
       "        text-align: right;\n",
       "    }\n",
       "</style>\n",
       "<table border=\"1\" class=\"dataframe\">\n",
       "  <thead>\n",
       "    <tr style=\"text-align: right;\">\n",
       "      <th></th>\n",
       "      <th>BsmtQual</th>\n",
       "      <th>FireplaceQu</th>\n",
       "      <th>GarageType</th>\n",
       "      <th>SalePrice</th>\n",
       "    </tr>\n",
       "  </thead>\n",
       "  <tbody>\n",
       "    <tr>\n",
       "      <th>0</th>\n",
       "      <td>Gd</td>\n",
       "      <td>Gd</td>\n",
       "      <td>Attchd</td>\n",
       "      <td>208500</td>\n",
       "    </tr>\n",
       "    <tr>\n",
       "      <th>1</th>\n",
       "      <td>Gd</td>\n",
       "      <td>TA</td>\n",
       "      <td>Attchd</td>\n",
       "      <td>181500</td>\n",
       "    </tr>\n",
       "    <tr>\n",
       "      <th>2</th>\n",
       "      <td>Gd</td>\n",
       "      <td>TA</td>\n",
       "      <td>Attchd</td>\n",
       "      <td>223500</td>\n",
       "    </tr>\n",
       "    <tr>\n",
       "      <th>3</th>\n",
       "      <td>TA</td>\n",
       "      <td>Gd</td>\n",
       "      <td>Detchd</td>\n",
       "      <td>140000</td>\n",
       "    </tr>\n",
       "    <tr>\n",
       "      <th>4</th>\n",
       "      <td>Gd</td>\n",
       "      <td>TA</td>\n",
       "      <td>Attchd</td>\n",
       "      <td>250000</td>\n",
       "    </tr>\n",
       "  </tbody>\n",
       "</table>\n",
       "</div>"
      ],
      "text/plain": [
       "  BsmtQual FireplaceQu GarageType  SalePrice\n",
       "0       Gd          Gd     Attchd     208500\n",
       "1       Gd          TA     Attchd     181500\n",
       "2       Gd          TA     Attchd     223500\n",
       "3       TA          Gd     Detchd     140000\n",
       "4       Gd          TA     Attchd     250000"
      ]
     },
     "execution_count": 63,
     "metadata": {},
     "output_type": "execute_result"
    }
   ],
   "source": [
    "df.head()"
   ]
  },
  {
   "cell_type": "code",
   "execution_count": 64,
   "metadata": {},
   "outputs": [
    {
     "data": {
      "text/plain": [
       "BsmtQual       0.0\n",
       "FireplaceQu    0.0\n",
       "GarageType     0.0\n",
       "SalePrice      0.0\n",
       "dtype: float64"
      ]
     },
     "execution_count": 64,
     "metadata": {},
     "output_type": "execute_result"
    }
   ],
   "source": [
    "df.isnull().mean()"
   ]
  },
  {
   "cell_type": "code",
   "execution_count": 65,
   "metadata": {},
   "outputs": [
    {
     "ename": "KeyError",
     "evalue": "\"['BsmtQual_freq' 'FireplaceQu_freq' 'GarageType_freq'] not found in axis\"",
     "output_type": "error",
     "traceback": [
      "\u001b[1;31m---------------------------------------------------------------------------\u001b[0m",
      "\u001b[1;31mKeyError\u001b[0m                                  Traceback (most recent call last)",
      "\u001b[1;32m<ipython-input-65-2b22fb2cc41d>\u001b[0m in \u001b[0;36m<module>\u001b[1;34m\u001b[0m\n\u001b[1;32m----> 1\u001b[1;33m \u001b[0mdf\u001b[0m\u001b[1;33m.\u001b[0m\u001b[0mdrop\u001b[0m\u001b[1;33m(\u001b[0m\u001b[1;33m[\u001b[0m\u001b[1;34m'BsmtQual_freq'\u001b[0m\u001b[1;33m,\u001b[0m\u001b[1;34m'FireplaceQu_freq'\u001b[0m\u001b[1;33m,\u001b[0m\u001b[1;34m'GarageType_freq'\u001b[0m\u001b[1;33m]\u001b[0m\u001b[1;33m,\u001b[0m\u001b[0maxis\u001b[0m\u001b[1;33m=\u001b[0m\u001b[1;36m1\u001b[0m\u001b[1;33m,\u001b[0m\u001b[0minplace\u001b[0m\u001b[1;33m=\u001b[0m\u001b[1;32mTrue\u001b[0m\u001b[1;33m)\u001b[0m\u001b[1;33m\u001b[0m\u001b[1;33m\u001b[0m\u001b[0m\n\u001b[0m",
      "\u001b[1;32m~\\anaconda3\\lib\\site-packages\\pandas\\core\\frame.py\u001b[0m in \u001b[0;36mdrop\u001b[1;34m(self, labels, axis, index, columns, level, inplace, errors)\u001b[0m\n\u001b[0;32m   3995\u001b[0m             \u001b[0mlevel\u001b[0m\u001b[1;33m=\u001b[0m\u001b[0mlevel\u001b[0m\u001b[1;33m,\u001b[0m\u001b[1;33m\u001b[0m\u001b[1;33m\u001b[0m\u001b[0m\n\u001b[0;32m   3996\u001b[0m             \u001b[0minplace\u001b[0m\u001b[1;33m=\u001b[0m\u001b[0minplace\u001b[0m\u001b[1;33m,\u001b[0m\u001b[1;33m\u001b[0m\u001b[1;33m\u001b[0m\u001b[0m\n\u001b[1;32m-> 3997\u001b[1;33m             \u001b[0merrors\u001b[0m\u001b[1;33m=\u001b[0m\u001b[0merrors\u001b[0m\u001b[1;33m,\u001b[0m\u001b[1;33m\u001b[0m\u001b[1;33m\u001b[0m\u001b[0m\n\u001b[0m\u001b[0;32m   3998\u001b[0m         )\n\u001b[0;32m   3999\u001b[0m \u001b[1;33m\u001b[0m\u001b[0m\n",
      "\u001b[1;32m~\\anaconda3\\lib\\site-packages\\pandas\\core\\generic.py\u001b[0m in \u001b[0;36mdrop\u001b[1;34m(self, labels, axis, index, columns, level, inplace, errors)\u001b[0m\n\u001b[0;32m   3934\u001b[0m         \u001b[1;32mfor\u001b[0m \u001b[0maxis\u001b[0m\u001b[1;33m,\u001b[0m \u001b[0mlabels\u001b[0m \u001b[1;32min\u001b[0m \u001b[0maxes\u001b[0m\u001b[1;33m.\u001b[0m\u001b[0mitems\u001b[0m\u001b[1;33m(\u001b[0m\u001b[1;33m)\u001b[0m\u001b[1;33m:\u001b[0m\u001b[1;33m\u001b[0m\u001b[1;33m\u001b[0m\u001b[0m\n\u001b[0;32m   3935\u001b[0m             \u001b[1;32mif\u001b[0m \u001b[0mlabels\u001b[0m \u001b[1;32mis\u001b[0m \u001b[1;32mnot\u001b[0m \u001b[1;32mNone\u001b[0m\u001b[1;33m:\u001b[0m\u001b[1;33m\u001b[0m\u001b[1;33m\u001b[0m\u001b[0m\n\u001b[1;32m-> 3936\u001b[1;33m                 \u001b[0mobj\u001b[0m \u001b[1;33m=\u001b[0m \u001b[0mobj\u001b[0m\u001b[1;33m.\u001b[0m\u001b[0m_drop_axis\u001b[0m\u001b[1;33m(\u001b[0m\u001b[0mlabels\u001b[0m\u001b[1;33m,\u001b[0m \u001b[0maxis\u001b[0m\u001b[1;33m,\u001b[0m \u001b[0mlevel\u001b[0m\u001b[1;33m=\u001b[0m\u001b[0mlevel\u001b[0m\u001b[1;33m,\u001b[0m \u001b[0merrors\u001b[0m\u001b[1;33m=\u001b[0m\u001b[0merrors\u001b[0m\u001b[1;33m)\u001b[0m\u001b[1;33m\u001b[0m\u001b[1;33m\u001b[0m\u001b[0m\n\u001b[0m\u001b[0;32m   3937\u001b[0m \u001b[1;33m\u001b[0m\u001b[0m\n\u001b[0;32m   3938\u001b[0m         \u001b[1;32mif\u001b[0m \u001b[0minplace\u001b[0m\u001b[1;33m:\u001b[0m\u001b[1;33m\u001b[0m\u001b[1;33m\u001b[0m\u001b[0m\n",
      "\u001b[1;32m~\\anaconda3\\lib\\site-packages\\pandas\\core\\generic.py\u001b[0m in \u001b[0;36m_drop_axis\u001b[1;34m(self, labels, axis, level, errors)\u001b[0m\n\u001b[0;32m   3968\u001b[0m                 \u001b[0mnew_axis\u001b[0m \u001b[1;33m=\u001b[0m \u001b[0maxis\u001b[0m\u001b[1;33m.\u001b[0m\u001b[0mdrop\u001b[0m\u001b[1;33m(\u001b[0m\u001b[0mlabels\u001b[0m\u001b[1;33m,\u001b[0m \u001b[0mlevel\u001b[0m\u001b[1;33m=\u001b[0m\u001b[0mlevel\u001b[0m\u001b[1;33m,\u001b[0m \u001b[0merrors\u001b[0m\u001b[1;33m=\u001b[0m\u001b[0merrors\u001b[0m\u001b[1;33m)\u001b[0m\u001b[1;33m\u001b[0m\u001b[1;33m\u001b[0m\u001b[0m\n\u001b[0;32m   3969\u001b[0m             \u001b[1;32melse\u001b[0m\u001b[1;33m:\u001b[0m\u001b[1;33m\u001b[0m\u001b[1;33m\u001b[0m\u001b[0m\n\u001b[1;32m-> 3970\u001b[1;33m                 \u001b[0mnew_axis\u001b[0m \u001b[1;33m=\u001b[0m \u001b[0maxis\u001b[0m\u001b[1;33m.\u001b[0m\u001b[0mdrop\u001b[0m\u001b[1;33m(\u001b[0m\u001b[0mlabels\u001b[0m\u001b[1;33m,\u001b[0m \u001b[0merrors\u001b[0m\u001b[1;33m=\u001b[0m\u001b[0merrors\u001b[0m\u001b[1;33m)\u001b[0m\u001b[1;33m\u001b[0m\u001b[1;33m\u001b[0m\u001b[0m\n\u001b[0m\u001b[0;32m   3971\u001b[0m             \u001b[0mresult\u001b[0m \u001b[1;33m=\u001b[0m \u001b[0mself\u001b[0m\u001b[1;33m.\u001b[0m\u001b[0mreindex\u001b[0m\u001b[1;33m(\u001b[0m\u001b[1;33m**\u001b[0m\u001b[1;33m{\u001b[0m\u001b[0maxis_name\u001b[0m\u001b[1;33m:\u001b[0m \u001b[0mnew_axis\u001b[0m\u001b[1;33m}\u001b[0m\u001b[1;33m)\u001b[0m\u001b[1;33m\u001b[0m\u001b[1;33m\u001b[0m\u001b[0m\n\u001b[0;32m   3972\u001b[0m \u001b[1;33m\u001b[0m\u001b[0m\n",
      "\u001b[1;32m~\\anaconda3\\lib\\site-packages\\pandas\\core\\indexes\\base.py\u001b[0m in \u001b[0;36mdrop\u001b[1;34m(self, labels, errors)\u001b[0m\n\u001b[0;32m   5016\u001b[0m         \u001b[1;32mif\u001b[0m \u001b[0mmask\u001b[0m\u001b[1;33m.\u001b[0m\u001b[0many\u001b[0m\u001b[1;33m(\u001b[0m\u001b[1;33m)\u001b[0m\u001b[1;33m:\u001b[0m\u001b[1;33m\u001b[0m\u001b[1;33m\u001b[0m\u001b[0m\n\u001b[0;32m   5017\u001b[0m             \u001b[1;32mif\u001b[0m \u001b[0merrors\u001b[0m \u001b[1;33m!=\u001b[0m \u001b[1;34m\"ignore\"\u001b[0m\u001b[1;33m:\u001b[0m\u001b[1;33m\u001b[0m\u001b[1;33m\u001b[0m\u001b[0m\n\u001b[1;32m-> 5018\u001b[1;33m                 \u001b[1;32mraise\u001b[0m \u001b[0mKeyError\u001b[0m\u001b[1;33m(\u001b[0m\u001b[1;34mf\"{labels[mask]} not found in axis\"\u001b[0m\u001b[1;33m)\u001b[0m\u001b[1;33m\u001b[0m\u001b[1;33m\u001b[0m\u001b[0m\n\u001b[0m\u001b[0;32m   5019\u001b[0m             \u001b[0mindexer\u001b[0m \u001b[1;33m=\u001b[0m \u001b[0mindexer\u001b[0m\u001b[1;33m[\u001b[0m\u001b[1;33m~\u001b[0m\u001b[0mmask\u001b[0m\u001b[1;33m]\u001b[0m\u001b[1;33m\u001b[0m\u001b[1;33m\u001b[0m\u001b[0m\n\u001b[0;32m   5020\u001b[0m         \u001b[1;32mreturn\u001b[0m \u001b[0mself\u001b[0m\u001b[1;33m.\u001b[0m\u001b[0mdelete\u001b[0m\u001b[1;33m(\u001b[0m\u001b[0mindexer\u001b[0m\u001b[1;33m)\u001b[0m\u001b[1;33m\u001b[0m\u001b[1;33m\u001b[0m\u001b[0m\n",
      "\u001b[1;31mKeyError\u001b[0m: \"['BsmtQual_freq' 'FireplaceQu_freq' 'GarageType_freq'] not found in axis\""
     ]
    }
   ],
   "source": [
    "df.drop(['BsmtQual_freq','FireplaceQu_freq','GarageType_freq'],axis=1,inplace=True)"
   ]
  },
  {
   "cell_type": "code",
   "execution_count": 66,
   "metadata": {},
   "outputs": [
    {
     "data": {
      "text/html": [
       "<div>\n",
       "<style scoped>\n",
       "    .dataframe tbody tr th:only-of-type {\n",
       "        vertical-align: middle;\n",
       "    }\n",
       "\n",
       "    .dataframe tbody tr th {\n",
       "        vertical-align: top;\n",
       "    }\n",
       "\n",
       "    .dataframe thead th {\n",
       "        text-align: right;\n",
       "    }\n",
       "</style>\n",
       "<table border=\"1\" class=\"dataframe\">\n",
       "  <thead>\n",
       "    <tr style=\"text-align: right;\">\n",
       "      <th></th>\n",
       "      <th>BsmtQual</th>\n",
       "      <th>FireplaceQu</th>\n",
       "      <th>GarageType</th>\n",
       "      <th>SalePrice</th>\n",
       "    </tr>\n",
       "  </thead>\n",
       "  <tbody>\n",
       "    <tr>\n",
       "      <th>0</th>\n",
       "      <td>Gd</td>\n",
       "      <td>Gd</td>\n",
       "      <td>Attchd</td>\n",
       "      <td>208500</td>\n",
       "    </tr>\n",
       "    <tr>\n",
       "      <th>1</th>\n",
       "      <td>Gd</td>\n",
       "      <td>TA</td>\n",
       "      <td>Attchd</td>\n",
       "      <td>181500</td>\n",
       "    </tr>\n",
       "    <tr>\n",
       "      <th>2</th>\n",
       "      <td>Gd</td>\n",
       "      <td>TA</td>\n",
       "      <td>Attchd</td>\n",
       "      <td>223500</td>\n",
       "    </tr>\n",
       "    <tr>\n",
       "      <th>3</th>\n",
       "      <td>TA</td>\n",
       "      <td>Gd</td>\n",
       "      <td>Detchd</td>\n",
       "      <td>140000</td>\n",
       "    </tr>\n",
       "    <tr>\n",
       "      <th>4</th>\n",
       "      <td>Gd</td>\n",
       "      <td>TA</td>\n",
       "      <td>Attchd</td>\n",
       "      <td>250000</td>\n",
       "    </tr>\n",
       "  </tbody>\n",
       "</table>\n",
       "</div>"
      ],
      "text/plain": [
       "  BsmtQual FireplaceQu GarageType  SalePrice\n",
       "0       Gd          Gd     Attchd     208500\n",
       "1       Gd          TA     Attchd     181500\n",
       "2       Gd          TA     Attchd     223500\n",
       "3       TA          Gd     Detchd     140000\n",
       "4       Gd          TA     Attchd     250000"
      ]
     },
     "execution_count": 66,
     "metadata": {},
     "output_type": "execute_result"
    }
   ],
   "source": [
    "df.head()"
   ]
  },
  {
   "cell_type": "markdown",
   "metadata": {},
   "source": [
    "## Adding a variable to capture NAN"
   ]
  },
  {
   "cell_type": "code",
   "execution_count": null,
   "metadata": {},
   "outputs": [],
   "source": [
    "df = pd.read_csv(\"loan.csv\",usecols=['BsmtQual','FireplaceQu','GarageType','SalePrice'])\n",
    "df.head()"
   ]
  },
  {
   "cell_type": "code",
   "execution_count": null,
   "metadata": {},
   "outputs": [],
   "source": [
    "df['BsmtQual_var'] = np.where(df['BsmtQual'].isnull(),1,0)"
   ]
  },
  {
   "cell_type": "code",
   "execution_count": null,
   "metadata": {},
   "outputs": [],
   "source": [
    "df.head()"
   ]
  },
  {
   "cell_type": "code",
   "execution_count": null,
   "metadata": {},
   "outputs": [],
   "source": [
    "def impute_new_feature(df,variable):\n",
    "    df[variable+\"_newvar\"] = np.where(df[variable].isnull(),1,0)\n",
    "    most_freq = df[variable].value_counts().index[0]\n",
    "    df[variable] = df[variable].fillna(most_freq)"
   ]
  },
  {
   "cell_type": "code",
   "execution_count": null,
   "metadata": {},
   "outputs": [],
   "source": [
    "for feature in ['BsmtQual','FireplaceQu','GarageType']:\n",
    "    impute_new_feature(df,feature)"
   ]
  },
  {
   "cell_type": "code",
   "execution_count": null,
   "metadata": {},
   "outputs": [],
   "source": [
    "df.head()"
   ]
  },
  {
   "cell_type": "markdown",
   "metadata": {},
   "source": [
    "## Suppose we have more frequent categories, just replace NAN with new category"
   ]
  },
  {
   "cell_type": "code",
   "execution_count": null,
   "metadata": {},
   "outputs": [],
   "source": [
    "df = pd.read_csv(\"loan.csv\",usecols=['BsmtQual','FireplaceQu','GarageType','SalePrice'])\n",
    "df.head()"
   ]
  },
  {
   "cell_type": "code",
   "execution_count": null,
   "metadata": {},
   "outputs": [],
   "source": [
    "def impute_new_category(df,variable):\n",
    "    df[variable+\"_newvar\"] = np.where(df[variable].isnull(),\"Missing\",df[variable])"
   ]
  },
  {
   "cell_type": "code",
   "execution_count": null,
   "metadata": {},
   "outputs": [],
   "source": [
    "for feature in ['BsmtQual','FireplaceQu','GarageType']:\n",
    "    impute_new_category(df,feature)"
   ]
  },
  {
   "cell_type": "code",
   "execution_count": null,
   "metadata": {},
   "outputs": [],
   "source": [
    "df.head()"
   ]
  },
  {
   "cell_type": "code",
   "execution_count": null,
   "metadata": {},
   "outputs": [],
   "source": [
    "df.drop(['BsmtQual','FireplaceQu','GarageType'],axis=1,inplace=True)"
   ]
  },
  {
   "cell_type": "code",
   "execution_count": null,
   "metadata": {},
   "outputs": [],
   "source": [
    "df.head()"
   ]
  },
  {
   "cell_type": "markdown",
   "metadata": {},
   "source": [
    "## One Hot Encoding (Nominal Features)"
   ]
  },
  {
   "cell_type": "code",
<<<<<<< HEAD
   "execution_count": 38,
=======
   "execution_count": 67,
>>>>>>> 0964895ef5c0c171e3fa178f4c6213ba73ff5cd4
   "metadata": {},
   "outputs": [
    {
     "data": {
      "application/javascript": [
       "\n",
<<<<<<< HEAD
       "        if (window._pyforest_update_imports_cell) { window._pyforest_update_imports_cell('import pandas as pd'); }\n",
=======
       "        if (window._pyforest_update_imports_cell) { window._pyforest_update_imports_cell('from sklearn.preprocessing import OneHotEncoder\\nimport re\\nfrom sklearn.model_selection import train_test_split\\nimport bokeh\\nimport pandas as pd\\nimport matplotlib.pyplot as plt\\nimport numpy as np\\nimport nltk\\nimport pickle'); }\n",
>>>>>>> 0964895ef5c0c171e3fa178f4c6213ba73ff5cd4
       "    "
      ],
      "text/plain": [
       "<IPython.core.display.Javascript object>"
      ]
     },
     "metadata": {},
     "output_type": "display_data"
    },
    {
     "data": {
      "text/html": [
       "<div>\n",
       "<style scoped>\n",
       "    .dataframe tbody tr th:only-of-type {\n",
       "        vertical-align: middle;\n",
       "    }\n",
       "\n",
       "    .dataframe tbody tr th {\n",
       "        vertical-align: top;\n",
       "    }\n",
       "\n",
       "    .dataframe thead th {\n",
       "        text-align: right;\n",
       "    }\n",
       "</style>\n",
       "<table border=\"1\" class=\"dataframe\">\n",
       "  <thead>\n",
       "    <tr style=\"text-align: right;\">\n",
       "      <th></th>\n",
       "      <th>PassengerId</th>\n",
       "      <th>Survived</th>\n",
       "      <th>Pclass</th>\n",
       "      <th>Name</th>\n",
       "      <th>Sex</th>\n",
       "      <th>Age</th>\n",
       "      <th>SibSp</th>\n",
       "      <th>Parch</th>\n",
       "      <th>Ticket</th>\n",
       "      <th>Fare</th>\n",
       "      <th>Cabin</th>\n",
       "      <th>Embarked</th>\n",
       "    </tr>\n",
       "  </thead>\n",
       "  <tbody>\n",
       "    <tr>\n",
       "      <th>0</th>\n",
       "      <td>1</td>\n",
       "      <td>0</td>\n",
       "      <td>3</td>\n",
       "      <td>Braund, Mr. Owen Harris</td>\n",
       "      <td>male</td>\n",
       "      <td>22.0</td>\n",
       "      <td>1</td>\n",
       "      <td>0</td>\n",
       "      <td>A/5 21171</td>\n",
       "      <td>7.2500</td>\n",
       "      <td>NaN</td>\n",
       "      <td>S</td>\n",
       "    </tr>\n",
       "    <tr>\n",
       "      <th>1</th>\n",
       "      <td>2</td>\n",
       "      <td>1</td>\n",
       "      <td>1</td>\n",
       "      <td>Cumings, Mrs. John Bradley (Florence Briggs Th...</td>\n",
       "      <td>female</td>\n",
       "      <td>38.0</td>\n",
       "      <td>1</td>\n",
       "      <td>0</td>\n",
       "      <td>PC 17599</td>\n",
       "      <td>71.2833</td>\n",
       "      <td>C85</td>\n",
       "      <td>C</td>\n",
       "    </tr>\n",
       "    <tr>\n",
       "      <th>2</th>\n",
       "      <td>3</td>\n",
       "      <td>1</td>\n",
       "      <td>3</td>\n",
       "      <td>Heikkinen, Miss. Laina</td>\n",
       "      <td>female</td>\n",
       "      <td>26.0</td>\n",
       "      <td>0</td>\n",
       "      <td>0</td>\n",
       "      <td>STON/O2. 3101282</td>\n",
       "      <td>7.9250</td>\n",
       "      <td>NaN</td>\n",
       "      <td>S</td>\n",
       "    </tr>\n",
       "    <tr>\n",
       "      <th>3</th>\n",
       "      <td>4</td>\n",
       "      <td>1</td>\n",
       "      <td>1</td>\n",
       "      <td>Futrelle, Mrs. Jacques Heath (Lily May Peel)</td>\n",
       "      <td>female</td>\n",
       "      <td>35.0</td>\n",
       "      <td>1</td>\n",
       "      <td>0</td>\n",
       "      <td>113803</td>\n",
       "      <td>53.1000</td>\n",
       "      <td>C123</td>\n",
       "      <td>S</td>\n",
       "    </tr>\n",
       "    <tr>\n",
       "      <th>4</th>\n",
       "      <td>5</td>\n",
       "      <td>0</td>\n",
       "      <td>3</td>\n",
       "      <td>Allen, Mr. William Henry</td>\n",
       "      <td>male</td>\n",
       "      <td>35.0</td>\n",
       "      <td>0</td>\n",
       "      <td>0</td>\n",
       "      <td>373450</td>\n",
       "      <td>8.0500</td>\n",
       "      <td>NaN</td>\n",
       "      <td>S</td>\n",
       "    </tr>\n",
<<<<<<< HEAD
       "    <tr>\n",
       "      <th>5</th>\n",
       "      <td>6</td>\n",
       "      <td>0</td>\n",
       "      <td>3</td>\n",
       "      <td>Moran, Mr. James</td>\n",
       "      <td>male</td>\n",
       "      <td>NaN</td>\n",
       "      <td>0</td>\n",
       "      <td>0</td>\n",
       "      <td>330877</td>\n",
       "      <td>8.4583</td>\n",
       "      <td>NaN</td>\n",
       "      <td>Q</td>\n",
       "    </tr>\n",
       "    <tr>\n",
       "      <th>6</th>\n",
       "      <td>7</td>\n",
       "      <td>0</td>\n",
       "      <td>1</td>\n",
       "      <td>McCarthy, Mr. Timothy J</td>\n",
       "      <td>male</td>\n",
       "      <td>54.0</td>\n",
       "      <td>0</td>\n",
       "      <td>0</td>\n",
       "      <td>17463</td>\n",
       "      <td>51.8625</td>\n",
       "      <td>E46</td>\n",
       "      <td>S</td>\n",
       "    </tr>\n",
       "    <tr>\n",
       "      <th>7</th>\n",
       "      <td>8</td>\n",
       "      <td>0</td>\n",
       "      <td>3</td>\n",
       "      <td>Palsson, Master. Gosta Leonard</td>\n",
       "      <td>male</td>\n",
       "      <td>2.0</td>\n",
       "      <td>3</td>\n",
       "      <td>1</td>\n",
       "      <td>349909</td>\n",
       "      <td>21.0750</td>\n",
       "      <td>NaN</td>\n",
       "      <td>S</td>\n",
       "    </tr>\n",
       "    <tr>\n",
       "      <th>8</th>\n",
       "      <td>9</td>\n",
       "      <td>1</td>\n",
       "      <td>3</td>\n",
       "      <td>Johnson, Mrs. Oscar W (Elisabeth Vilhelmina Berg)</td>\n",
       "      <td>female</td>\n",
       "      <td>27.0</td>\n",
       "      <td>0</td>\n",
       "      <td>2</td>\n",
       "      <td>347742</td>\n",
       "      <td>11.1333</td>\n",
       "      <td>NaN</td>\n",
       "      <td>S</td>\n",
       "    </tr>\n",
       "    <tr>\n",
       "      <th>9</th>\n",
       "      <td>10</td>\n",
       "      <td>1</td>\n",
       "      <td>2</td>\n",
       "      <td>Nasser, Mrs. Nicholas (Adele Achem)</td>\n",
       "      <td>female</td>\n",
       "      <td>14.0</td>\n",
       "      <td>1</td>\n",
       "      <td>0</td>\n",
       "      <td>237736</td>\n",
       "      <td>30.0708</td>\n",
       "      <td>NaN</td>\n",
       "      <td>C</td>\n",
       "    </tr>\n",
=======
>>>>>>> 0964895ef5c0c171e3fa178f4c6213ba73ff5cd4
       "  </tbody>\n",
       "</table>\n",
       "</div>"
      ],
      "text/plain": [
       "   PassengerId  Survived  Pclass  \\\n",
       "0            1         0       3   \n",
       "1            2         1       1   \n",
       "2            3         1       3   \n",
       "3            4         1       1   \n",
       "4            5         0       3   \n",
<<<<<<< HEAD
       "5            6         0       3   \n",
       "6            7         0       1   \n",
       "7            8         0       3   \n",
       "8            9         1       3   \n",
       "9           10         1       2   \n",
=======
>>>>>>> 0964895ef5c0c171e3fa178f4c6213ba73ff5cd4
       "\n",
       "                                                Name     Sex   Age  SibSp  \\\n",
       "0                            Braund, Mr. Owen Harris    male  22.0      1   \n",
       "1  Cumings, Mrs. John Bradley (Florence Briggs Th...  female  38.0      1   \n",
       "2                             Heikkinen, Miss. Laina  female  26.0      0   \n",
       "3       Futrelle, Mrs. Jacques Heath (Lily May Peel)  female  35.0      1   \n",
       "4                           Allen, Mr. William Henry    male  35.0      0   \n",
<<<<<<< HEAD
       "5                                   Moran, Mr. James    male   NaN      0   \n",
       "6                            McCarthy, Mr. Timothy J    male  54.0      0   \n",
       "7                     Palsson, Master. Gosta Leonard    male   2.0      3   \n",
       "8  Johnson, Mrs. Oscar W (Elisabeth Vilhelmina Berg)  female  27.0      0   \n",
       "9                Nasser, Mrs. Nicholas (Adele Achem)  female  14.0      1   \n",
=======
>>>>>>> 0964895ef5c0c171e3fa178f4c6213ba73ff5cd4
       "\n",
       "   Parch            Ticket     Fare Cabin Embarked  \n",
       "0      0         A/5 21171   7.2500   NaN        S  \n",
       "1      0          PC 17599  71.2833   C85        C  \n",
       "2      0  STON/O2. 3101282   7.9250   NaN        S  \n",
       "3      0            113803  53.1000  C123        S  \n",
<<<<<<< HEAD
       "4      0            373450   8.0500   NaN        S  \n",
       "5      0            330877   8.4583   NaN        Q  \n",
       "6      0             17463  51.8625   E46        S  \n",
       "7      1            349909  21.0750   NaN        S  \n",
       "8      2            347742  11.1333   NaN        S  \n",
       "9      0            237736  30.0708   NaN        C  "
      ]
     },
     "execution_count": 38,
=======
       "4      0            373450   8.0500   NaN        S  "
      ]
     },
     "execution_count": 67,
>>>>>>> 0964895ef5c0c171e3fa178f4c6213ba73ff5cd4
     "metadata": {},
     "output_type": "execute_result"
    }
   ],
   "source": [
    "df = pd.read_csv(\"titanic.csv\")\n",
<<<<<<< HEAD
=======
    "df.head()"
   ]
  },
  {
   "cell_type": "code",
   "execution_count": 68,
   "metadata": {},
   "outputs": [
    {
     "data": {
      "application/javascript": [
       "\n",
       "        if (window._pyforest_update_imports_cell) { window._pyforest_update_imports_cell('from sklearn.preprocessing import OneHotEncoder\\nimport re\\nfrom sklearn.model_selection import train_test_split\\nimport bokeh\\nimport pandas as pd\\nimport matplotlib.pyplot as plt\\nimport numpy as np\\nimport nltk\\nimport pickle'); }\n",
       "    "
      ],
      "text/plain": [
       "<IPython.core.display.Javascript object>"
      ]
     },
     "metadata": {},
     "output_type": "display_data"
    },
    {
     "data": {
      "text/html": [
       "<div>\n",
       "<style scoped>\n",
       "    .dataframe tbody tr th:only-of-type {\n",
       "        vertical-align: middle;\n",
       "    }\n",
       "\n",
       "    .dataframe tbody tr th {\n",
       "        vertical-align: top;\n",
       "    }\n",
       "\n",
       "    .dataframe thead th {\n",
       "        text-align: right;\n",
       "    }\n",
       "</style>\n",
       "<table border=\"1\" class=\"dataframe\">\n",
       "  <thead>\n",
       "    <tr style=\"text-align: right;\">\n",
       "      <th></th>\n",
       "      <th>Sex</th>\n",
       "      <th>Embarked</th>\n",
       "    </tr>\n",
       "  </thead>\n",
       "  <tbody>\n",
       "    <tr>\n",
       "      <th>0</th>\n",
       "      <td>male</td>\n",
       "      <td>S</td>\n",
       "    </tr>\n",
       "    <tr>\n",
       "      <th>1</th>\n",
       "      <td>female</td>\n",
       "      <td>C</td>\n",
       "    </tr>\n",
       "    <tr>\n",
       "      <th>2</th>\n",
       "      <td>female</td>\n",
       "      <td>S</td>\n",
       "    </tr>\n",
       "    <tr>\n",
       "      <th>3</th>\n",
       "      <td>female</td>\n",
       "      <td>S</td>\n",
       "    </tr>\n",
       "    <tr>\n",
       "      <th>4</th>\n",
       "      <td>male</td>\n",
       "      <td>S</td>\n",
       "    </tr>\n",
       "  </tbody>\n",
       "</table>\n",
       "</div>"
      ],
      "text/plain": [
       "      Sex Embarked\n",
       "0    male        S\n",
       "1  female        C\n",
       "2  female        S\n",
       "3  female        S\n",
       "4    male        S"
      ]
     },
     "execution_count": 68,
     "metadata": {},
     "output_type": "execute_result"
    }
   ],
   "source": [
    "df = pd.read_csv(\"titanic.csv\", usecols = [\"Sex\",\"Embarked\"])\n",
    "df.head()"
   ]
  },
  {
   "cell_type": "code",
   "execution_count": 69,
   "metadata": {},
   "outputs": [
    {
     "data": {
      "application/javascript": [
       "\n",
       "        if (window._pyforest_update_imports_cell) { window._pyforest_update_imports_cell('from sklearn.preprocessing import OneHotEncoder\\nimport re\\nfrom sklearn.model_selection import train_test_split\\nimport bokeh\\nimport pandas as pd\\nimport matplotlib.pyplot as plt\\nimport numpy as np\\nimport nltk\\nimport pickle'); }\n",
       "    "
      ],
      "text/plain": [
       "<IPython.core.display.Javascript object>"
      ]
     },
     "metadata": {},
     "output_type": "display_data"
    },
    {
     "data": {
      "text/html": [
       "<div>\n",
       "<style scoped>\n",
       "    .dataframe tbody tr th:only-of-type {\n",
       "        vertical-align: middle;\n",
       "    }\n",
       "\n",
       "    .dataframe tbody tr th {\n",
       "        vertical-align: top;\n",
       "    }\n",
       "\n",
       "    .dataframe thead th {\n",
       "        text-align: right;\n",
       "    }\n",
       "</style>\n",
       "<table border=\"1\" class=\"dataframe\">\n",
       "  <thead>\n",
       "    <tr style=\"text-align: right;\">\n",
       "      <th></th>\n",
       "      <th>male</th>\n",
       "    </tr>\n",
       "  </thead>\n",
       "  <tbody>\n",
       "    <tr>\n",
       "      <th>0</th>\n",
       "      <td>1</td>\n",
       "    </tr>\n",
       "    <tr>\n",
       "      <th>1</th>\n",
       "      <td>0</td>\n",
       "    </tr>\n",
       "    <tr>\n",
       "      <th>2</th>\n",
       "      <td>0</td>\n",
       "    </tr>\n",
       "    <tr>\n",
       "      <th>3</th>\n",
       "      <td>0</td>\n",
       "    </tr>\n",
       "    <tr>\n",
       "      <th>4</th>\n",
       "      <td>1</td>\n",
       "    </tr>\n",
       "  </tbody>\n",
       "</table>\n",
       "</div>"
      ],
      "text/plain": [
       "   male\n",
       "0     1\n",
       "1     0\n",
       "2     0\n",
       "3     0\n",
       "4     1"
      ]
     },
     "execution_count": 69,
     "metadata": {},
     "output_type": "execute_result"
    }
   ],
   "source": [
    "pd.get_dummies(df[\"Sex\"],drop_first= True).head()"
   ]
  },
  {
   "cell_type": "code",
   "execution_count": 70,
   "metadata": {},
   "outputs": [],
   "source": [
    "df[\"Embarked\"].dropna(inplace = True)"
   ]
  },
  {
   "cell_type": "code",
   "execution_count": 71,
   "metadata": {},
   "outputs": [
    {
     "data": {
      "application/javascript": [
       "\n",
       "        if (window._pyforest_update_imports_cell) { window._pyforest_update_imports_cell('from sklearn.preprocessing import OneHotEncoder\\nimport re\\nfrom sklearn.model_selection import train_test_split\\nimport bokeh\\nimport pandas as pd\\nimport matplotlib.pyplot as plt\\nimport numpy as np\\nimport nltk\\nimport pickle'); }\n",
       "    "
      ],
      "text/plain": [
       "<IPython.core.display.Javascript object>"
      ]
     },
     "metadata": {},
     "output_type": "display_data"
    },
    {
     "data": {
      "text/html": [
       "<div>\n",
       "<style scoped>\n",
       "    .dataframe tbody tr th:only-of-type {\n",
       "        vertical-align: middle;\n",
       "    }\n",
       "\n",
       "    .dataframe tbody tr th {\n",
       "        vertical-align: top;\n",
       "    }\n",
       "\n",
       "    .dataframe thead th {\n",
       "        text-align: right;\n",
       "    }\n",
       "</style>\n",
       "<table border=\"1\" class=\"dataframe\">\n",
       "  <thead>\n",
       "    <tr style=\"text-align: right;\">\n",
       "      <th></th>\n",
       "      <th>Q</th>\n",
       "      <th>S</th>\n",
       "    </tr>\n",
       "  </thead>\n",
       "  <tbody>\n",
       "    <tr>\n",
       "      <th>0</th>\n",
       "      <td>0</td>\n",
       "      <td>1</td>\n",
       "    </tr>\n",
       "    <tr>\n",
       "      <th>1</th>\n",
       "      <td>0</td>\n",
       "      <td>0</td>\n",
       "    </tr>\n",
       "    <tr>\n",
       "      <th>2</th>\n",
       "      <td>0</td>\n",
       "      <td>1</td>\n",
       "    </tr>\n",
       "    <tr>\n",
       "      <th>3</th>\n",
       "      <td>0</td>\n",
       "      <td>1</td>\n",
       "    </tr>\n",
       "    <tr>\n",
       "      <th>4</th>\n",
       "      <td>0</td>\n",
       "      <td>1</td>\n",
       "    </tr>\n",
       "    <tr>\n",
       "      <th>5</th>\n",
       "      <td>1</td>\n",
       "      <td>0</td>\n",
       "    </tr>\n",
       "    <tr>\n",
       "      <th>6</th>\n",
       "      <td>0</td>\n",
       "      <td>1</td>\n",
       "    </tr>\n",
       "    <tr>\n",
       "      <th>7</th>\n",
       "      <td>0</td>\n",
       "      <td>1</td>\n",
       "    </tr>\n",
       "    <tr>\n",
       "      <th>8</th>\n",
       "      <td>0</td>\n",
       "      <td>1</td>\n",
       "    </tr>\n",
       "    <tr>\n",
       "      <th>9</th>\n",
       "      <td>0</td>\n",
       "      <td>0</td>\n",
       "    </tr>\n",
       "  </tbody>\n",
       "</table>\n",
       "</div>"
      ],
      "text/plain": [
       "   Q  S\n",
       "0  0  1\n",
       "1  0  0\n",
       "2  0  1\n",
       "3  0  1\n",
       "4  0  1\n",
       "5  1  0\n",
       "6  0  1\n",
       "7  0  1\n",
       "8  0  1\n",
       "9  0  0"
      ]
     },
     "execution_count": 71,
     "metadata": {},
     "output_type": "execute_result"
    }
   ],
   "source": [
    "pd.get_dummies(df[\"Embarked\"],drop_first= True).head(10)"
   ]
  },
  {
   "cell_type": "code",
   "execution_count": 72,
   "metadata": {},
   "outputs": [
    {
     "data": {
      "text/html": [
       "<div>\n",
       "<style scoped>\n",
       "    .dataframe tbody tr th:only-of-type {\n",
       "        vertical-align: middle;\n",
       "    }\n",
       "\n",
       "    .dataframe tbody tr th {\n",
       "        vertical-align: top;\n",
       "    }\n",
       "\n",
       "    .dataframe thead th {\n",
       "        text-align: right;\n",
       "    }\n",
       "</style>\n",
       "<table border=\"1\" class=\"dataframe\">\n",
       "  <thead>\n",
       "    <tr style=\"text-align: right;\">\n",
       "      <th></th>\n",
       "      <th>Sex</th>\n",
       "      <th>Embarked</th>\n",
       "    </tr>\n",
       "  </thead>\n",
       "  <tbody>\n",
       "    <tr>\n",
       "      <th>0</th>\n",
       "      <td>male</td>\n",
       "      <td>S</td>\n",
       "    </tr>\n",
       "    <tr>\n",
       "      <th>1</th>\n",
       "      <td>female</td>\n",
       "      <td>C</td>\n",
       "    </tr>\n",
       "    <tr>\n",
       "      <th>2</th>\n",
       "      <td>female</td>\n",
       "      <td>S</td>\n",
       "    </tr>\n",
       "    <tr>\n",
       "      <th>3</th>\n",
       "      <td>female</td>\n",
       "      <td>S</td>\n",
       "    </tr>\n",
       "    <tr>\n",
       "      <th>4</th>\n",
       "      <td>male</td>\n",
       "      <td>S</td>\n",
       "    </tr>\n",
       "    <tr>\n",
       "      <th>5</th>\n",
       "      <td>male</td>\n",
       "      <td>Q</td>\n",
       "    </tr>\n",
       "    <tr>\n",
       "      <th>6</th>\n",
       "      <td>male</td>\n",
       "      <td>S</td>\n",
       "    </tr>\n",
       "    <tr>\n",
       "      <th>7</th>\n",
       "      <td>male</td>\n",
       "      <td>S</td>\n",
       "    </tr>\n",
       "    <tr>\n",
       "      <th>8</th>\n",
       "      <td>female</td>\n",
       "      <td>S</td>\n",
       "    </tr>\n",
       "    <tr>\n",
       "      <th>9</th>\n",
       "      <td>female</td>\n",
       "      <td>C</td>\n",
       "    </tr>\n",
       "  </tbody>\n",
       "</table>\n",
       "</div>"
      ],
      "text/plain": [
       "      Sex Embarked\n",
       "0    male        S\n",
       "1  female        C\n",
       "2  female        S\n",
       "3  female        S\n",
       "4    male        S\n",
       "5    male        Q\n",
       "6    male        S\n",
       "7    male        S\n",
       "8  female        S\n",
       "9  female        C"
      ]
     },
     "execution_count": 72,
     "metadata": {},
     "output_type": "execute_result"
    }
   ],
   "source": [
>>>>>>> 0964895ef5c0c171e3fa178f4c6213ba73ff5cd4
    "df.head(10)"
   ]
  },
  {
   "cell_type": "code",
   "execution_count": 39,
   "metadata": {},
   "outputs": [
    {
     "data": {
      "application/javascript": [
       "\n",
       "        if (window._pyforest_update_imports_cell) { window._pyforest_update_imports_cell('import pandas as pd'); }\n",
       "    "
      ],
      "text/plain": [
       "<IPython.core.display.Javascript object>"
      ]
     },
     "metadata": {},
     "output_type": "display_data"
    },
    {
     "data": {
      "text/html": [
       "<div>\n",
       "<style scoped>\n",
       "    .dataframe tbody tr th:only-of-type {\n",
       "        vertical-align: middle;\n",
       "    }\n",
       "\n",
       "    .dataframe tbody tr th {\n",
       "        vertical-align: top;\n",
       "    }\n",
       "\n",
       "    .dataframe thead th {\n",
       "        text-align: right;\n",
       "    }\n",
       "</style>\n",
       "<table border=\"1\" class=\"dataframe\">\n",
       "  <thead>\n",
       "    <tr style=\"text-align: right;\">\n",
       "      <th></th>\n",
       "      <th>Sex</th>\n",
       "      <th>Embarked</th>\n",
       "    </tr>\n",
       "  </thead>\n",
       "  <tbody>\n",
       "    <tr>\n",
       "      <th>0</th>\n",
       "      <td>male</td>\n",
       "      <td>S</td>\n",
       "    </tr>\n",
       "    <tr>\n",
       "      <th>1</th>\n",
       "      <td>female</td>\n",
       "      <td>C</td>\n",
       "    </tr>\n",
       "    <tr>\n",
       "      <th>2</th>\n",
       "      <td>female</td>\n",
       "      <td>S</td>\n",
       "    </tr>\n",
       "    <tr>\n",
       "      <th>3</th>\n",
       "      <td>female</td>\n",
       "      <td>S</td>\n",
       "    </tr>\n",
       "    <tr>\n",
       "      <th>4</th>\n",
       "      <td>male</td>\n",
       "      <td>S</td>\n",
       "    </tr>\n",
       "  </tbody>\n",
       "</table>\n",
       "</div>"
      ],
      "text/plain": [
       "      Sex Embarked\n",
       "0    male        S\n",
       "1  female        C\n",
       "2  female        S\n",
       "3  female        S\n",
       "4    male        S"
      ]
     },
     "execution_count": 39,
     "metadata": {},
     "output_type": "execute_result"
    }
   ],
   "source": [
    "df = pd.read_csv(\"titanic.csv\", usecols = [\"Sex\",\"Embarked\"])\n",
    "df.head()"
   ]
  },
  {
   "cell_type": "code",
   "execution_count": 40,
   "metadata": {},
   "outputs": [
    {
     "data": {
      "application/javascript": [
       "\n",
       "        if (window._pyforest_update_imports_cell) { window._pyforest_update_imports_cell('import pandas as pd'); }\n",
       "    "
      ],
      "text/plain": [
       "<IPython.core.display.Javascript object>"
      ]
     },
     "metadata": {},
     "output_type": "display_data"
    },
    {
     "data": {
      "text/html": [
       "<div>\n",
       "<style scoped>\n",
       "    .dataframe tbody tr th:only-of-type {\n",
       "        vertical-align: middle;\n",
       "    }\n",
       "\n",
       "    .dataframe tbody tr th {\n",
       "        vertical-align: top;\n",
       "    }\n",
       "\n",
       "    .dataframe thead th {\n",
       "        text-align: right;\n",
       "    }\n",
       "</style>\n",
       "<table border=\"1\" class=\"dataframe\">\n",
       "  <thead>\n",
       "    <tr style=\"text-align: right;\">\n",
       "      <th></th>\n",
       "      <th>male</th>\n",
       "    </tr>\n",
       "  </thead>\n",
       "  <tbody>\n",
       "    <tr>\n",
       "      <th>0</th>\n",
       "      <td>1</td>\n",
       "    </tr>\n",
       "    <tr>\n",
       "      <th>1</th>\n",
       "      <td>0</td>\n",
       "    </tr>\n",
       "    <tr>\n",
       "      <th>2</th>\n",
       "      <td>0</td>\n",
       "    </tr>\n",
       "    <tr>\n",
       "      <th>3</th>\n",
       "      <td>0</td>\n",
       "    </tr>\n",
       "    <tr>\n",
       "      <th>4</th>\n",
       "      <td>1</td>\n",
       "    </tr>\n",
       "  </tbody>\n",
       "</table>\n",
       "</div>"
      ],
      "text/plain": [
       "   male\n",
       "0     1\n",
       "1     0\n",
       "2     0\n",
       "3     0\n",
       "4     1"
      ]
     },
     "execution_count": 40,
     "metadata": {},
     "output_type": "execute_result"
    }
   ],
   "source": [
    "pd.get_dummies(df[\"Sex\"],drop_first= True).head()"
   ]
  },
  {
   "cell_type": "code",
   "execution_count": null,
   "metadata": {},
   "outputs": [],
   "source": [
    "df[\"Embarked\"].dropna(inplace = True)"
   ]
  },
  {
   "cell_type": "code",
   "execution_count": null,
   "metadata": {},
   "outputs": [],
   "source": [
    "pd.get_dummies(df[\"Embarked\"],drop_first= True).head(10)"
   ]
  },
  {
   "cell_type": "code",
   "execution_count": null,
   "metadata": {},
   "outputs": [],
   "source": [
    "df.head(10)"
   ]
  },
  {
   "cell_type": "markdown",
   "metadata": {},
   "source": [
    "### If we have many categories under single feature we follow top 10 approach"
   ]
  },
  {
   "cell_type": "code",
   "execution_count": 41,
   "metadata": {},
   "outputs": [
    {
     "data": {
      "application/javascript": [
       "\n",
       "        if (window._pyforest_update_imports_cell) { window._pyforest_update_imports_cell('import pandas as pd'); }\n",
       "    "
      ],
      "text/plain": [
       "<IPython.core.display.Javascript object>"
      ]
     },
     "metadata": {},
     "output_type": "display_data"
    },
    {
     "data": {
      "text/html": [
       "<div>\n",
       "<style scoped>\n",
       "    .dataframe tbody tr th:only-of-type {\n",
       "        vertical-align: middle;\n",
       "    }\n",
       "\n",
       "    .dataframe tbody tr th {\n",
       "        vertical-align: top;\n",
       "    }\n",
       "\n",
       "    .dataframe thead th {\n",
       "        text-align: right;\n",
       "    }\n",
       "</style>\n",
       "<table border=\"1\" class=\"dataframe\">\n",
       "  <thead>\n",
       "    <tr style=\"text-align: right;\">\n",
       "      <th></th>\n",
       "      <th>X0</th>\n",
       "      <th>X1</th>\n",
       "      <th>X2</th>\n",
       "      <th>X3</th>\n",
       "      <th>X4</th>\n",
       "      <th>X5</th>\n",
       "      <th>X6</th>\n",
       "    </tr>\n",
       "  </thead>\n",
       "  <tbody>\n",
       "    <tr>\n",
       "      <th>0</th>\n",
       "      <td>k</td>\n",
       "      <td>v</td>\n",
       "      <td>at</td>\n",
       "      <td>a</td>\n",
       "      <td>d</td>\n",
       "      <td>u</td>\n",
       "      <td>j</td>\n",
       "    </tr>\n",
       "    <tr>\n",
       "      <th>1</th>\n",
       "      <td>k</td>\n",
       "      <td>t</td>\n",
       "      <td>av</td>\n",
       "      <td>e</td>\n",
       "      <td>d</td>\n",
       "      <td>y</td>\n",
       "      <td>l</td>\n",
       "    </tr>\n",
       "    <tr>\n",
       "      <th>2</th>\n",
       "      <td>az</td>\n",
       "      <td>w</td>\n",
       "      <td>n</td>\n",
       "      <td>c</td>\n",
       "      <td>d</td>\n",
       "      <td>x</td>\n",
       "      <td>j</td>\n",
       "    </tr>\n",
       "    <tr>\n",
       "      <th>3</th>\n",
       "      <td>az</td>\n",
       "      <td>t</td>\n",
       "      <td>n</td>\n",
       "      <td>f</td>\n",
       "      <td>d</td>\n",
       "      <td>x</td>\n",
       "      <td>l</td>\n",
       "    </tr>\n",
       "    <tr>\n",
       "      <th>4</th>\n",
       "      <td>az</td>\n",
       "      <td>v</td>\n",
       "      <td>n</td>\n",
       "      <td>f</td>\n",
       "      <td>d</td>\n",
       "      <td>h</td>\n",
       "      <td>d</td>\n",
       "    </tr>\n",
       "  </tbody>\n",
       "</table>\n",
       "</div>"
      ],
      "text/plain": [
       "   X0 X1  X2 X3 X4 X5 X6\n",
       "0   k  v  at  a  d  u  j\n",
       "1   k  t  av  e  d  y  l\n",
       "2  az  w   n  c  d  x  j\n",
       "3  az  t   n  f  d  x  l\n",
       "4  az  v   n  f  d  h  d"
      ]
     },
     "execution_count": 41,
     "metadata": {},
     "output_type": "execute_result"
    }
   ],
   "source": [
    "df= pd.read_csv(\"mercedes.csv\" ,usecols =[\"X0\",\"X1\",\"X2\",\"X3\",\"X4\",\"X5\",\"X6\"])\n",
    "df.head()"
   ]
  },
  {
   "cell_type": "code",
   "execution_count": 42,
   "metadata": {},
   "outputs": [
    {
     "data": {
      "text/plain": [
       "z     360\n",
       "ak    349\n",
       "y     324\n",
       "ay    313\n",
       "t     306\n",
       "x     300\n",
       "o     269\n",
       "f     227\n",
       "n     195\n",
       "w     182\n",
       "Name: X0, dtype: int64"
      ]
     },
     "execution_count": 42,
     "metadata": {},
     "output_type": "execute_result"
    }
   ],
   "source": [
    "df[\"X0\"].value_counts().head(10)"
   ]
  },
  {
   "cell_type": "code",
   "execution_count": 43,
   "metadata": {},
   "outputs": [
    {
     "name": "stdout",
     "output_type": "stream",
     "text": [
      "47\n",
      "27\n",
      "44\n",
      "7\n",
      "4\n",
      "29\n",
      "12\n"
     ]
    }
   ],
   "source": [
    "for category in df.columns:\n",
    "    print(len(df[category].value_counts()))\n",
    "    "
   ]
  },
  {
   "cell_type": "code",
   "execution_count": null,
   "metadata": {},
   "outputs": [],
   "source": [
    "df[\"X1\"].value_counts().head(10)"
   ]
  },
  {
   "cell_type": "code",
   "execution_count": null,
   "metadata": {},
   "outputs": [],
   "source": [
    "#lst_10=df.X1.value_counts().sort_values(ascending=False).head(10).index\n",
    "#lst_10=list(lst_10)"
   ]
  },
  {
   "cell_type": "code",
   "execution_count": null,
   "metadata": {},
   "outputs": [],
   "source": [
    "#or categories in lst_10:\n",
    " #  df[categories]=np.where(df['X1']==categories,1,0)"
   ]
  },
  {
   "cell_type": "code",
   "execution_count": null,
   "metadata": {},
   "outputs": [],
   "source": [
    "#print(type(df['X1']))\n",
    "#print(type(categories))"
   ]
  },
  {
   "cell_type": "code",
   "execution_count": null,
   "metadata": {},
   "outputs": [],
   "source": [
    "#lst_10.append('X1')\n",
    "#df[lst_10]"
   ]
  },
  {
   "cell_type": "code",
   "execution_count": 44,
   "metadata": {},
   "outputs": [],
   "source": [
    "top_10_all=[]\n",
    "for i in df.columns:\n",
    "    top_10 = df[i].value_counts().head(10).index\n",
    "    top_10= list(top_10)\n",
    "    top_10_all.append(top_10)"
   ]
  },
  {
   "cell_type": "code",
   "execution_count": 45,
   "metadata": {
    "scrolled": false
   },
   "outputs": [
    {
     "data": {
      "text/plain": [
       "[['z', 'ak', 'y', 'ay', 't', 'x', 'o', 'f', 'n', 'w'],\n",
       " ['aa', 's', 'b', 'l', 'v', 'r', 'i', 'a', 'c', 'o'],\n",
       " ['as', 'ae', 'ai', 'm', 'ak', 'r', 'n', 's', 'f', 'e'],\n",
       " ['c', 'f', 'a', 'd', 'g', 'e', 'b'],\n",
       " ['d', 'a', 'c', 'b'],\n",
       " ['w', 'v', 'q', 'r', 'd', 's', 'n', 'm', 'p', 'i'],\n",
       " ['g', 'j', 'd', 'i', 'l', 'a', 'h', 'k', 'c', 'b']]"
      ]
     },
     "execution_count": 45,
     "metadata": {},
     "output_type": "execute_result"
    }
   ],
   "source": [
    "top_10_all"
   ]
  },
  {
   "cell_type": "code",
   "execution_count": 46,
   "metadata": {
    "code_folding": []
   },
   "outputs": [],
   "source": [
    "def multi_encode(variable,top_10_all):\n",
    "        first_top10 = top_10_all[0]\n",
    "        print(first_top10)\n",
    "\n",
    "        for value in first_top10:\n",
    "            df[value]= np.where(df[variable]== value,1,0)\n",
    "        first_top10.append(variable)\n",
    "        print(df[first_top10])\n",
    "        top_10_all = top_10_all.pop(0)"
   ]
  },
  {
   "cell_type": "code",
   "execution_count": 47,
   "metadata": {},
   "outputs": [
    {
     "name": "stdout",
     "output_type": "stream",
     "text": [
      "['z', 'ak', 'y', 'ay', 't', 'x', 'o', 'f', 'n', 'w']\n"
     ]
    },
    {
     "data": {
      "application/javascript": [
       "\n",
       "        if (window._pyforest_update_imports_cell) { window._pyforest_update_imports_cell('import pandas as pd\\nimport numpy as np'); }\n",
       "    "
      ],
      "text/plain": [
       "<IPython.core.display.Javascript object>"
      ]
     },
     "metadata": {},
     "output_type": "display_data"
    },
    {
     "data": {
      "application/javascript": [
       "\n",
       "        if (window._pyforest_update_imports_cell) { window._pyforest_update_imports_cell('import pandas as pd\\nimport numpy as np'); }\n",
       "    "
      ],
      "text/plain": [
       "<IPython.core.display.Javascript object>"
      ]
     },
     "metadata": {},
     "output_type": "display_data"
    },
    {
     "data": {
      "application/javascript": [
       "\n",
       "        if (window._pyforest_update_imports_cell) { window._pyforest_update_imports_cell('import pandas as pd\\nimport numpy as np'); }\n",
       "    "
      ],
      "text/plain": [
       "<IPython.core.display.Javascript object>"
      ]
     },
     "metadata": {},
     "output_type": "display_data"
    },
    {
     "data": {
      "application/javascript": [
       "\n",
       "        if (window._pyforest_update_imports_cell) { window._pyforest_update_imports_cell('import pandas as pd\\nimport numpy as np'); }\n",
       "    "
      ],
      "text/plain": [
       "<IPython.core.display.Javascript object>"
      ]
     },
     "metadata": {},
     "output_type": "display_data"
    },
    {
     "data": {
      "application/javascript": [
       "\n",
       "        if (window._pyforest_update_imports_cell) { window._pyforest_update_imports_cell('import pandas as pd\\nimport numpy as np'); }\n",
       "    "
      ],
      "text/plain": [
       "<IPython.core.display.Javascript object>"
      ]
     },
     "metadata": {},
     "output_type": "display_data"
    },
    {
     "data": {
      "application/javascript": [
       "\n",
       "        if (window._pyforest_update_imports_cell) { window._pyforest_update_imports_cell('import pandas as pd\\nimport numpy as np'); }\n",
       "    "
      ],
      "text/plain": [
       "<IPython.core.display.Javascript object>"
      ]
     },
     "metadata": {},
     "output_type": "display_data"
    },
    {
     "data": {
      "application/javascript": [
       "\n",
       "        if (window._pyforest_update_imports_cell) { window._pyforest_update_imports_cell('import pandas as pd\\nimport numpy as np'); }\n",
       "    "
      ],
      "text/plain": [
       "<IPython.core.display.Javascript object>"
      ]
     },
     "metadata": {},
     "output_type": "display_data"
    },
    {
     "data": {
      "application/javascript": [
       "\n",
       "        if (window._pyforest_update_imports_cell) { window._pyforest_update_imports_cell('import pandas as pd\\nimport numpy as np'); }\n",
       "    "
      ],
      "text/plain": [
       "<IPython.core.display.Javascript object>"
      ]
     },
     "metadata": {},
     "output_type": "display_data"
    },
    {
     "data": {
      "application/javascript": [
       "\n",
       "        if (window._pyforest_update_imports_cell) { window._pyforest_update_imports_cell('import pandas as pd\\nimport numpy as np'); }\n",
       "    "
      ],
      "text/plain": [
       "<IPython.core.display.Javascript object>"
      ]
     },
     "metadata": {},
     "output_type": "display_data"
    },
    {
     "data": {
      "application/javascript": [
       "\n",
       "        if (window._pyforest_update_imports_cell) { window._pyforest_update_imports_cell('import pandas as pd\\nimport numpy as np'); }\n",
       "    "
      ],
      "text/plain": [
       "<IPython.core.display.Javascript object>"
      ]
     },
     "metadata": {},
     "output_type": "display_data"
    },
    {
     "name": "stdout",
     "output_type": "stream",
     "text": [
      "      z  ak  y  ay  t  x  o  f  n  w  X0\n",
      "0     0   0  0   0  0  0  0  0  0  0   k\n",
      "1     0   0  0   0  0  0  0  0  0  0   k\n",
      "2     0   0  0   0  0  0  0  0  0  0  az\n",
      "3     0   0  0   0  0  0  0  0  0  0  az\n",
      "4     0   0  0   0  0  0  0  0  0  0  az\n",
      "5     0   0  0   0  1  0  0  0  0  0   t\n",
      "6     0   0  0   0  0  0  0  0  0  0  al\n",
      "7     0   0  0   0  0  0  1  0  0  0   o\n",
      "8     0   0  0   0  0  0  0  0  0  1   w\n",
      "9     0   0  0   0  0  0  0  0  0  0   j\n",
      "10    0   0  0   0  0  0  0  0  0  0   h\n",
      "11    0   0  0   0  0  0  0  0  0  0  al\n",
      "12    0   0  0   0  0  0  0  0  0  0   s\n",
      "13    0   0  0   0  0  0  0  0  0  0  al\n",
      "14    0   0  0   0  0  0  1  0  0  0   o\n",
      "15    0   0  0   0  0  0  0  0  1  0   n\n",
      "16    0   0  0   0  0  0  0  0  0  0  al\n",
      "17    0   0  0   1  0  0  0  0  0  0  ay\n",
      "18    0   0  0   0  0  0  0  1  0  0   f\n",
      "19    0   0  0   0  0  0  0  0  1  0   n\n",
      "20    0   0  0   0  0  0  0  1  0  0   f\n",
      "21    0   0  0   0  1  0  0  0  0  0   t\n",
      "22    0   0  0   0  0  1  0  0  0  0   x\n",
      "23    0   0  0   0  0  1  0  0  0  0   x\n",
      "24    0   0  1   0  0  0  0  0  0  0   y\n",
      "25    0   0  0   0  0  0  1  0  0  0   o\n",
      "26    0   0  0   0  0  0  0  0  0  0  aj\n",
      "27    0   0  0   0  1  0  0  0  0  0   t\n",
      "28    0   0  0   0  0  0  0  1  0  0   f\n",
      "29    0   0  0   0  0  1  0  0  0  0   x\n",
      "...  ..  .. ..  .. .. .. .. .. .. ..  ..\n",
      "4179  0   0  0   0  0  0  0  0  0  0  al\n",
      "4180  0   0  0   0  0  0  0  0  0  0  ba\n",
      "4181  0   0  1   0  0  0  0  0  0  0   y\n",
      "4182  1   0  0   0  0  0  0  0  0  0   z\n",
      "4183  1   0  0   0  0  0  0  0  0  0   z\n",
      "4184  0   0  0   0  0  0  0  0  0  1   w\n",
      "4185  0   1  0   0  0  0  0  0  0  0  ak\n",
      "4186  0   0  0   0  0  0  0  0  0  0   j\n",
      "4187  0   0  0   0  0  0  0  0  0  0  aj\n",
      "4188  0   0  0   0  0  0  0  1  0  0   f\n",
      "4189  0   0  0   0  0  0  0  0  0  0  aj\n",
      "4190  0   0  0   0  0  0  0  0  1  0   n\n",
      "4191  1   0  0   0  0  0  0  0  0  0   z\n",
      "4192  0   0  0   0  0  0  0  0  0  0  aj\n",
      "4193  0   1  0   0  0  0  0  0  0  0  ak\n",
      "4194  1   0  0   0  0  0  0  0  0  0   z\n",
      "4195  0   0  0   0  0  0  1  0  0  0   o\n",
      "4196  0   0  1   0  0  0  0  0  0  0   y\n",
      "4197  1   0  0   0  0  0  0  0  0  0   z\n",
      "4198  0   0  0   0  0  0  0  0  0  0  aw\n",
      "4199  0   0  0   0  1  0  0  0  0  0   t\n",
      "4200  1   0  0   0  0  0  0  0  0  0   z\n",
      "4201  0   0  0   0  0  0  0  0  0  1   w\n",
      "4202  0   0  0   0  0  0  0  0  0  0  ap\n",
      "4203  0   0  0   0  0  0  0  0  0  0  aq\n",
      "4204  0   1  0   0  0  0  0  0  0  0  ak\n",
      "4205  0   0  0   0  0  0  0  0  0  0   j\n",
      "4206  0   1  0   0  0  0  0  0  0  0  ak\n",
      "4207  0   0  0   0  0  0  0  0  0  0  al\n",
      "4208  1   0  0   0  0  0  0  0  0  0   z\n",
      "\n",
      "[4209 rows x 11 columns]\n",
      "['aa', 's', 'b', 'l', 'v', 'r', 'i', 'a', 'c', 'o']\n"
     ]
    },
    {
     "data": {
      "application/javascript": [
       "\n",
       "        if (window._pyforest_update_imports_cell) { window._pyforest_update_imports_cell('import pandas as pd\\nimport numpy as np'); }\n",
       "    "
      ],
      "text/plain": [
       "<IPython.core.display.Javascript object>"
      ]
     },
     "metadata": {},
     "output_type": "display_data"
    },
    {
     "data": {
      "application/javascript": [
       "\n",
       "        if (window._pyforest_update_imports_cell) { window._pyforest_update_imports_cell('import pandas as pd\\nimport numpy as np'); }\n",
       "    "
      ],
      "text/plain": [
       "<IPython.core.display.Javascript object>"
      ]
     },
     "metadata": {},
     "output_type": "display_data"
    },
    {
     "data": {
      "application/javascript": [
       "\n",
       "        if (window._pyforest_update_imports_cell) { window._pyforest_update_imports_cell('import pandas as pd\\nimport numpy as np'); }\n",
       "    "
      ],
      "text/plain": [
       "<IPython.core.display.Javascript object>"
      ]
     },
     "metadata": {},
     "output_type": "display_data"
    },
    {
     "data": {
      "application/javascript": [
       "\n",
       "        if (window._pyforest_update_imports_cell) { window._pyforest_update_imports_cell('import pandas as pd\\nimport numpy as np'); }\n",
       "    "
      ],
      "text/plain": [
       "<IPython.core.display.Javascript object>"
      ]
     },
     "metadata": {},
     "output_type": "display_data"
    },
    {
     "data": {
      "application/javascript": [
       "\n",
       "        if (window._pyforest_update_imports_cell) { window._pyforest_update_imports_cell('import pandas as pd\\nimport numpy as np'); }\n",
       "    "
      ],
      "text/plain": [
       "<IPython.core.display.Javascript object>"
      ]
     },
     "metadata": {},
     "output_type": "display_data"
    },
    {
     "data": {
      "application/javascript": [
       "\n",
       "        if (window._pyforest_update_imports_cell) { window._pyforest_update_imports_cell('import pandas as pd\\nimport numpy as np'); }\n",
       "    "
      ],
      "text/plain": [
       "<IPython.core.display.Javascript object>"
      ]
     },
     "metadata": {},
     "output_type": "display_data"
    },
    {
     "data": {
      "application/javascript": [
       "\n",
       "        if (window._pyforest_update_imports_cell) { window._pyforest_update_imports_cell('import pandas as pd\\nimport numpy as np'); }\n",
       "    "
      ],
      "text/plain": [
       "<IPython.core.display.Javascript object>"
      ]
     },
     "metadata": {},
     "output_type": "display_data"
    },
    {
     "data": {
      "application/javascript": [
       "\n",
       "        if (window._pyforest_update_imports_cell) { window._pyforest_update_imports_cell('import pandas as pd\\nimport numpy as np'); }\n",
       "    "
      ],
      "text/plain": [
       "<IPython.core.display.Javascript object>"
      ]
     },
     "metadata": {},
     "output_type": "display_data"
    },
    {
     "data": {
      "application/javascript": [
       "\n",
       "        if (window._pyforest_update_imports_cell) { window._pyforest_update_imports_cell('import pandas as pd\\nimport numpy as np'); }\n",
       "    "
      ],
      "text/plain": [
       "<IPython.core.display.Javascript object>"
      ]
     },
     "metadata": {},
     "output_type": "display_data"
    },
    {
     "data": {
      "application/javascript": [
       "\n",
       "        if (window._pyforest_update_imports_cell) { window._pyforest_update_imports_cell('import pandas as pd\\nimport numpy as np'); }\n",
       "    "
      ],
      "text/plain": [
       "<IPython.core.display.Javascript object>"
      ]
     },
     "metadata": {},
     "output_type": "display_data"
    },
    {
     "name": "stdout",
     "output_type": "stream",
     "text": [
      "      aa  s  b  l  v  r  i  a  c  o  X1\n",
      "0      0  0  0  0  1  0  0  0  0  0   v\n",
      "1      0  0  0  0  0  0  0  0  0  0   t\n",
      "2      0  0  0  0  0  0  0  0  0  0   w\n",
      "3      0  0  0  0  0  0  0  0  0  0   t\n",
      "4      0  0  0  0  1  0  0  0  0  0   v\n",
      "5      0  0  1  0  0  0  0  0  0  0   b\n",
      "6      0  0  0  0  0  1  0  0  0  0   r\n",
      "7      0  0  0  1  0  0  0  0  0  0   l\n",
      "8      0  1  0  0  0  0  0  0  0  0   s\n",
      "9      0  0  1  0  0  0  0  0  0  0   b\n",
      "10     0  0  0  0  0  1  0  0  0  0   r\n",
      "11     0  0  0  0  0  1  0  0  0  0   r\n",
      "12     0  0  1  0  0  0  0  0  0  0   b\n",
      "13     0  0  0  0  0  1  0  0  0  0   r\n",
      "14     0  1  0  0  0  0  0  0  0  0   s\n",
      "15     0  0  0  1  0  0  0  0  0  0   l\n",
      "16     0  0  0  0  0  1  0  0  0  0   r\n",
      "17     1  0  0  0  0  0  0  0  0  0  aa\n",
      "18     0  0  0  0  0  0  0  0  1  0   c\n",
      "19     0  0  0  0  0  0  0  1  0  0   a\n",
      "20     0  1  0  0  0  0  0  0  0  0   s\n",
      "21     1  0  0  0  0  0  0  0  0  0  aa\n",
      "22     0  0  0  0  0  1  0  0  0  0   r\n",
      "23     0  0  1  0  0  0  0  0  0  0   b\n",
      "24     0  0  0  0  0  1  0  0  0  0   r\n",
      "25     0  1  0  0  0  0  0  0  0  0   s\n",
      "26     0  0  0  1  0  0  0  0  0  0   l\n",
      "27     1  0  0  0  0  0  0  0  0  0  aa\n",
      "28     0  1  0  0  0  0  0  0  0  0   s\n",
      "29     0  0  1  0  0  0  0  0  0  0   b\n",
      "...   .. .. .. .. .. .. .. .. .. ..  ..\n",
      "4179   0  0  0  0  0  0  0  1  0  0   a\n",
      "4180   0  0  0  0  1  0  0  0  0  0   v\n",
      "4181   0  0  0  0  0  1  0  0  0  0   r\n",
      "4182   0  0  0  0  1  0  0  0  0  0   v\n",
      "4183   1  0  0  0  0  0  0  0  0  0  aa\n",
      "4184   0  1  0  0  0  0  0  0  0  0   s\n",
      "4185   0  0  0  0  1  0  0  0  0  0   v\n",
      "4186   0  0  0  0  0  0  0  0  0  0   f\n",
      "4187   0  0  0  1  0  0  0  0  0  0   l\n",
      "4188   0  1  0  0  0  0  0  0  0  0   s\n",
      "4189   0  1  0  0  0  0  0  0  0  0   s\n",
      "4190   0  1  0  0  0  0  0  0  0  0   s\n",
      "4191   0  0  0  0  1  0  0  0  0  0   v\n",
      "4192   0  0  0  1  0  0  0  0  0  0   l\n",
      "4193   0  0  0  0  1  0  0  0  0  0   v\n",
      "4194   0  0  0  0  0  0  0  0  0  1   o\n",
      "4195   0  0  0  1  0  0  0  0  0  0   l\n",
      "4196   0  0  0  0  0  0  0  0  0  1   o\n",
      "4197   0  0  0  0  1  0  0  0  0  0   v\n",
      "4198   0  0  0  0  0  0  0  1  0  0   a\n",
      "4199   1  0  0  0  0  0  0  0  0  0  aa\n",
      "4200   1  0  0  0  0  0  0  0  0  0  aa\n",
      "4201   0  0  0  0  1  0  0  0  0  0   v\n",
      "4202   0  0  0  1  0  0  0  0  0  0   l\n",
      "4203   0  1  0  0  0  0  0  0  0  0   s\n",
      "4204   0  1  0  0  0  0  0  0  0  0   s\n",
      "4205   0  0  0  0  0  0  0  0  0  1   o\n",
      "4206   0  0  0  0  1  0  0  0  0  0   v\n",
      "4207   0  0  0  0  0  1  0  0  0  0   r\n",
      "4208   0  0  0  0  0  1  0  0  0  0   r\n",
      "\n",
      "[4209 rows x 11 columns]\n",
      "['as', 'ae', 'ai', 'm', 'ak', 'r', 'n', 's', 'f', 'e']\n"
     ]
    },
    {
     "data": {
      "application/javascript": [
       "\n",
       "        if (window._pyforest_update_imports_cell) { window._pyforest_update_imports_cell('import pandas as pd\\nimport numpy as np'); }\n",
       "    "
      ],
      "text/plain": [
       "<IPython.core.display.Javascript object>"
      ]
     },
     "metadata": {},
     "output_type": "display_data"
    },
    {
     "data": {
      "application/javascript": [
       "\n",
       "        if (window._pyforest_update_imports_cell) { window._pyforest_update_imports_cell('import pandas as pd\\nimport numpy as np'); }\n",
       "    "
      ],
      "text/plain": [
       "<IPython.core.display.Javascript object>"
      ]
     },
     "metadata": {},
     "output_type": "display_data"
    },
    {
     "data": {
      "application/javascript": [
       "\n",
       "        if (window._pyforest_update_imports_cell) { window._pyforest_update_imports_cell('import pandas as pd\\nimport numpy as np'); }\n",
       "    "
      ],
      "text/plain": [
       "<IPython.core.display.Javascript object>"
      ]
     },
     "metadata": {},
     "output_type": "display_data"
    },
    {
     "data": {
      "application/javascript": [
       "\n",
       "        if (window._pyforest_update_imports_cell) { window._pyforest_update_imports_cell('import pandas as pd\\nimport numpy as np'); }\n",
       "    "
      ],
      "text/plain": [
       "<IPython.core.display.Javascript object>"
      ]
     },
     "metadata": {},
     "output_type": "display_data"
    },
    {
     "data": {
      "application/javascript": [
       "\n",
       "        if (window._pyforest_update_imports_cell) { window._pyforest_update_imports_cell('import pandas as pd\\nimport numpy as np'); }\n",
       "    "
      ],
      "text/plain": [
       "<IPython.core.display.Javascript object>"
      ]
     },
     "metadata": {},
     "output_type": "display_data"
    },
    {
     "data": {
      "application/javascript": [
       "\n",
       "        if (window._pyforest_update_imports_cell) { window._pyforest_update_imports_cell('import pandas as pd\\nimport numpy as np'); }\n",
       "    "
      ],
      "text/plain": [
       "<IPython.core.display.Javascript object>"
      ]
     },
     "metadata": {},
     "output_type": "display_data"
    },
    {
     "data": {
      "application/javascript": [
       "\n",
       "        if (window._pyforest_update_imports_cell) { window._pyforest_update_imports_cell('import pandas as pd\\nimport numpy as np'); }\n",
       "    "
      ],
      "text/plain": [
       "<IPython.core.display.Javascript object>"
      ]
     },
     "metadata": {},
     "output_type": "display_data"
    },
    {
     "data": {
      "application/javascript": [
       "\n",
       "        if (window._pyforest_update_imports_cell) { window._pyforest_update_imports_cell('import pandas as pd\\nimport numpy as np'); }\n",
       "    "
      ],
      "text/plain": [
       "<IPython.core.display.Javascript object>"
      ]
     },
     "metadata": {},
     "output_type": "display_data"
    },
    {
     "data": {
      "application/javascript": [
       "\n",
       "        if (window._pyforest_update_imports_cell) { window._pyforest_update_imports_cell('import pandas as pd\\nimport numpy as np'); }\n",
       "    "
      ],
      "text/plain": [
       "<IPython.core.display.Javascript object>"
      ]
     },
     "metadata": {},
     "output_type": "display_data"
    },
    {
     "data": {
      "application/javascript": [
       "\n",
       "        if (window._pyforest_update_imports_cell) { window._pyforest_update_imports_cell('import pandas as pd\\nimport numpy as np'); }\n",
       "    "
      ],
      "text/plain": [
       "<IPython.core.display.Javascript object>"
      ]
     },
     "metadata": {},
     "output_type": "display_data"
    },
    {
     "name": "stdout",
     "output_type": "stream",
     "text": [
      "      as  ae  ai  m  ak  r  n  s  f  e  X2\n",
      "0      0   0   0  0   0  0  0  0  0  0  at\n",
      "1      0   0   0  0   0  0  0  0  0  0  av\n",
      "2      0   0   0  0   0  0  1  0  0  0   n\n",
      "3      0   0   0  0   0  0  1  0  0  0   n\n",
      "4      0   0   0  0   0  0  1  0  0  0   n\n",
      "5      0   0   0  0   0  0  0  0  0  1   e\n",
      "6      0   0   0  0   0  0  0  0  0  1   e\n",
      "7      1   0   0  0   0  0  0  0  0  0  as\n",
      "8      1   0   0  0   0  0  0  0  0  0  as\n",
      "9      0   0   0  0   0  0  0  0  0  0  aq\n",
      "10     0   0   0  0   0  1  0  0  0  0   r\n",
      "11     0   0   0  0   0  0  0  0  0  1   e\n",
      "12     0   0   1  0   0  0  0  0  0  0  ai\n",
      "13     0   0   0  0   0  0  0  0  0  1   e\n",
      "14     1   0   0  0   0  0  0  0  0  0  as\n",
      "15     0   0   0  0   1  0  0  0  0  0  ak\n",
      "16     0   0   0  0   0  0  0  0  0  1   e\n",
      "17     1   0   0  0   0  0  0  0  0  0  as\n",
      "18     0   0   0  1   0  0  0  0  0  0   m\n",
      "19     0   0   0  0   1  0  0  0  0  0  ak\n",
      "20     0   0   0  1   0  0  0  0  0  0   m\n",
      "21     1   0   0  0   0  0  0  0  0  0  as\n",
      "22     0   0   0  0   0  0  0  0  0  0   a\n",
      "23     0   0   0  1   0  0  0  0  0  0   m\n",
      "24     0   0   0  0   1  0  0  0  0  0  ak\n",
      "25     0   0   0  1   0  0  0  0  0  0   m\n",
      "26     1   0   0  0   0  0  0  0  0  0  as\n",
      "27     1   0   0  0   0  0  0  0  0  0  as\n",
      "28     1   0   0  0   0  0  0  0  0  0  as\n",
      "29     0   0   0  1   0  0  0  0  0  0   m\n",
      "...   ..  ..  .. ..  .. .. .. .. .. ..  ..\n",
      "4179   0   0   0  0   1  0  0  0  0  0  ak\n",
      "4180   0   0   1  0   0  0  0  0  0  0  ai\n",
      "4181   1   0   0  0   0  0  0  0  0  0  as\n",
      "4182   0   1   0  0   0  0  0  0  0  0  ae\n",
      "4183   0   0   0  1   0  0  0  0  0  0   m\n",
      "4184   1   0   0  0   0  0  0  0  0  0  as\n",
      "4185   0   0   0  0   0  0  0  0  0  0  ao\n",
      "4186   0   0   0  0   0  0  0  0  0  0  ar\n",
      "4187   0   1   0  0   0  0  0  0  0  0  ae\n",
      "4188   1   0   0  0   0  0  0  0  0  0  as\n",
      "4189   1   0   0  0   0  0  0  0  0  0  as\n",
      "4190   0   1   0  0   0  0  0  0  0  0  ae\n",
      "4191   0   1   0  0   0  0  0  0  0  0  ae\n",
      "4192   1   0   0  0   0  0  0  0  0  0  as\n",
      "4193   0   0   0  0   0  0  0  0  0  0  aw\n",
      "4194   1   0   0  0   0  0  0  0  0  0  as\n",
      "4195   0   1   0  0   0  0  0  0  0  0  ae\n",
      "4196   0   0   0  1   0  0  0  0  0  0   m\n",
      "4197   0   1   0  0   0  0  0  0  0  0  ae\n",
      "4198   0   0   0  0   1  0  0  0  0  0  ak\n",
      "4199   0   0   0  0   0  0  0  0  0  0  ay\n",
      "4200   0   0   0  0   0  0  0  0  0  1   e\n",
      "4201   0   0   0  0   0  0  0  0  0  0   t\n",
      "4202   0   0   0  0   0  0  0  1  0  0   s\n",
      "4203   1   0   0  0   0  0  0  0  0  0  as\n",
      "4204   1   0   0  0   0  0  0  0  0  0  as\n",
      "4205   0   0   0  0   0  0  0  0  0  0   t\n",
      "4206   0   0   0  0   0  1  0  0  0  0   r\n",
      "4207   0   0   0  0   0  0  0  0  0  1   e\n",
      "4208   0   1   0  0   0  0  0  0  0  0  ae\n",
      "\n",
      "[4209 rows x 11 columns]\n",
      "['c', 'f', 'a', 'd', 'g', 'e', 'b']\n"
     ]
    },
    {
     "data": {
      "application/javascript": [
       "\n",
       "        if (window._pyforest_update_imports_cell) { window._pyforest_update_imports_cell('import pandas as pd\\nimport numpy as np'); }\n",
       "    "
      ],
      "text/plain": [
       "<IPython.core.display.Javascript object>"
      ]
     },
     "metadata": {},
     "output_type": "display_data"
    },
    {
     "data": {
      "application/javascript": [
       "\n",
       "        if (window._pyforest_update_imports_cell) { window._pyforest_update_imports_cell('import pandas as pd\\nimport numpy as np'); }\n",
       "    "
      ],
      "text/plain": [
       "<IPython.core.display.Javascript object>"
      ]
     },
     "metadata": {},
     "output_type": "display_data"
    },
    {
     "data": {
      "application/javascript": [
       "\n",
       "        if (window._pyforest_update_imports_cell) { window._pyforest_update_imports_cell('import pandas as pd\\nimport numpy as np'); }\n",
       "    "
      ],
      "text/plain": [
       "<IPython.core.display.Javascript object>"
      ]
     },
     "metadata": {},
     "output_type": "display_data"
    },
    {
     "data": {
      "application/javascript": [
       "\n",
       "        if (window._pyforest_update_imports_cell) { window._pyforest_update_imports_cell('import pandas as pd\\nimport numpy as np'); }\n",
       "    "
      ],
      "text/plain": [
       "<IPython.core.display.Javascript object>"
      ]
     },
     "metadata": {},
     "output_type": "display_data"
    },
    {
     "data": {
      "application/javascript": [
       "\n",
       "        if (window._pyforest_update_imports_cell) { window._pyforest_update_imports_cell('import pandas as pd\\nimport numpy as np'); }\n",
       "    "
      ],
      "text/plain": [
       "<IPython.core.display.Javascript object>"
      ]
     },
     "metadata": {},
     "output_type": "display_data"
    },
    {
     "data": {
      "application/javascript": [
       "\n",
       "        if (window._pyforest_update_imports_cell) { window._pyforest_update_imports_cell('import pandas as pd\\nimport numpy as np'); }\n",
       "    "
      ],
      "text/plain": [
       "<IPython.core.display.Javascript object>"
      ]
     },
     "metadata": {},
     "output_type": "display_data"
    },
    {
     "data": {
      "application/javascript": [
       "\n",
       "        if (window._pyforest_update_imports_cell) { window._pyforest_update_imports_cell('import pandas as pd\\nimport numpy as np'); }\n",
       "    "
      ],
      "text/plain": [
       "<IPython.core.display.Javascript object>"
      ]
     },
     "metadata": {},
     "output_type": "display_data"
    },
    {
     "name": "stdout",
     "output_type": "stream",
     "text": [
      "      c  f  a  d  g  e  b X3\n",
      "0     0  0  1  0  0  0  0  a\n",
      "1     0  0  0  0  0  1  0  e\n",
      "2     1  0  0  0  0  0  0  c\n",
      "3     0  1  0  0  0  0  0  f\n",
      "4     0  1  0  0  0  0  0  f\n",
      "5     1  0  0  0  0  0  0  c\n",
      "6     0  1  0  0  0  0  0  f\n",
      "7     0  1  0  0  0  0  0  f\n",
      "8     0  0  0  0  0  1  0  e\n",
      "9     1  0  0  0  0  0  0  c\n",
      "10    0  1  0  0  0  0  0  f\n",
      "11    0  1  0  0  0  0  0  f\n",
      "12    1  0  0  0  0  0  0  c\n",
      "13    0  1  0  0  0  0  0  f\n",
      "14    0  0  0  0  0  1  0  e\n",
      "15    0  1  0  0  0  0  0  f\n",
      "16    0  1  0  0  0  0  0  f\n",
      "17    1  0  0  0  0  0  0  c\n",
      "18    1  0  0  0  0  0  0  c\n",
      "19    0  1  0  0  0  0  0  f\n",
      "20    1  0  0  0  0  0  0  c\n",
      "21    0  0  0  1  0  0  0  d\n",
      "22    0  0  0  0  0  0  1  b\n",
      "23    1  0  0  0  0  0  0  c\n",
      "24    0  0  0  1  0  0  0  d\n",
      "25    1  0  0  0  0  0  0  c\n",
      "26    0  1  0  0  0  0  0  f\n",
      "27    1  0  0  0  0  0  0  c\n",
      "28    1  0  0  0  0  0  0  c\n",
      "29    1  0  0  0  0  0  0  c\n",
      "...  .. .. .. .. .. .. .. ..\n",
      "4179  0  1  0  0  0  0  0  f\n",
      "4180  0  0  1  0  0  0  0  a\n",
      "4181  0  1  0  0  0  0  0  f\n",
      "4182  1  0  0  0  0  0  0  c\n",
      "4183  1  0  0  0  0  0  0  c\n",
      "4184  1  0  0  0  0  0  0  c\n",
      "4185  0  0  0  1  0  0  0  d\n",
      "4186  0  0  1  0  0  0  0  a\n",
      "4187  0  1  0  0  0  0  0  f\n",
      "4188  0  0  1  0  0  0  0  a\n",
      "4189  1  0  0  0  0  0  0  c\n",
      "4190  1  0  0  0  0  0  0  c\n",
      "4191  1  0  0  0  0  0  0  c\n",
      "4192  0  1  0  0  0  0  0  f\n",
      "4193  1  0  0  0  0  0  0  c\n",
      "4194  0  1  0  0  0  0  0  f\n",
      "4195  0  1  0  0  0  0  0  f\n",
      "4196  0  1  0  0  0  0  0  f\n",
      "4197  1  0  0  0  0  0  0  c\n",
      "4198  0  1  0  0  0  0  0  f\n",
      "4199  1  0  0  0  0  0  0  c\n",
      "4200  1  0  0  0  0  0  0  c\n",
      "4201  0  0  0  1  0  0  0  d\n",
      "4202  1  0  0  0  0  0  0  c\n",
      "4203  1  0  0  0  0  0  0  c\n",
      "4204  1  0  0  0  0  0  0  c\n",
      "4205  0  0  0  1  0  0  0  d\n",
      "4206  0  0  1  0  0  0  0  a\n",
      "4207  0  1  0  0  0  0  0  f\n",
      "4208  1  0  0  0  0  0  0  c\n",
      "\n",
      "[4209 rows x 8 columns]\n",
      "['d', 'a', 'c', 'b']\n"
     ]
    },
    {
     "data": {
      "application/javascript": [
       "\n",
       "        if (window._pyforest_update_imports_cell) { window._pyforest_update_imports_cell('import pandas as pd\\nimport numpy as np'); }\n",
       "    "
      ],
      "text/plain": [
       "<IPython.core.display.Javascript object>"
      ]
     },
     "metadata": {},
     "output_type": "display_data"
    },
    {
     "data": {
      "application/javascript": [
       "\n",
       "        if (window._pyforest_update_imports_cell) { window._pyforest_update_imports_cell('import pandas as pd\\nimport numpy as np'); }\n",
       "    "
      ],
      "text/plain": [
       "<IPython.core.display.Javascript object>"
      ]
     },
     "metadata": {},
     "output_type": "display_data"
    },
    {
     "data": {
      "application/javascript": [
       "\n",
       "        if (window._pyforest_update_imports_cell) { window._pyforest_update_imports_cell('import pandas as pd\\nimport numpy as np'); }\n",
       "    "
      ],
      "text/plain": [
       "<IPython.core.display.Javascript object>"
      ]
     },
     "metadata": {},
     "output_type": "display_data"
    },
    {
     "data": {
      "application/javascript": [
       "\n",
       "        if (window._pyforest_update_imports_cell) { window._pyforest_update_imports_cell('import pandas as pd\\nimport numpy as np'); }\n",
       "    "
      ],
      "text/plain": [
       "<IPython.core.display.Javascript object>"
      ]
     },
     "metadata": {},
     "output_type": "display_data"
    },
    {
     "name": "stdout",
     "output_type": "stream",
     "text": [
      "      d  a  c  b X4\n",
      "0     1  0  0  0  d\n",
      "1     1  0  0  0  d\n",
      "2     1  0  0  0  d\n",
      "3     1  0  0  0  d\n",
      "4     1  0  0  0  d\n",
      "5     1  0  0  0  d\n",
      "6     1  0  0  0  d\n",
      "7     1  0  0  0  d\n",
      "8     1  0  0  0  d\n",
      "9     1  0  0  0  d\n",
      "10    1  0  0  0  d\n",
      "11    1  0  0  0  d\n",
      "12    1  0  0  0  d\n",
      "13    1  0  0  0  d\n",
      "14    1  0  0  0  d\n",
      "15    1  0  0  0  d\n",
      "16    1  0  0  0  d\n",
      "17    1  0  0  0  d\n",
      "18    1  0  0  0  d\n",
      "19    1  0  0  0  d\n",
      "20    1  0  0  0  d\n",
      "21    1  0  0  0  d\n",
      "22    1  0  0  0  d\n",
      "23    1  0  0  0  d\n",
      "24    1  0  0  0  d\n",
      "25    1  0  0  0  d\n",
      "26    1  0  0  0  d\n",
      "27    1  0  0  0  d\n",
      "28    1  0  0  0  d\n",
      "29    1  0  0  0  d\n",
      "...  .. .. .. .. ..\n",
      "4179  1  0  0  0  d\n",
      "4180  1  0  0  0  d\n",
      "4181  1  0  0  0  d\n",
      "4182  1  0  0  0  d\n",
      "4183  1  0  0  0  d\n",
      "4184  1  0  0  0  d\n",
      "4185  1  0  0  0  d\n",
      "4186  1  0  0  0  d\n",
      "4187  1  0  0  0  d\n",
      "4188  1  0  0  0  d\n",
      "4189  1  0  0  0  d\n",
      "4190  1  0  0  0  d\n",
      "4191  1  0  0  0  d\n",
      "4192  1  0  0  0  d\n",
      "4193  1  0  0  0  d\n",
      "4194  1  0  0  0  d\n",
      "4195  1  0  0  0  d\n",
      "4196  1  0  0  0  d\n",
      "4197  1  0  0  0  d\n",
      "4198  1  0  0  0  d\n",
      "4199  1  0  0  0  d\n",
      "4200  1  0  0  0  d\n",
      "4201  1  0  0  0  d\n",
      "4202  1  0  0  0  d\n",
      "4203  1  0  0  0  d\n",
      "4204  1  0  0  0  d\n",
      "4205  1  0  0  0  d\n",
      "4206  1  0  0  0  d\n",
      "4207  1  0  0  0  d\n",
      "4208  1  0  0  0  d\n",
      "\n",
      "[4209 rows x 5 columns]\n",
      "['w', 'v', 'q', 'r', 'd', 's', 'n', 'm', 'p', 'i']\n"
     ]
    },
    {
     "data": {
      "application/javascript": [
       "\n",
       "        if (window._pyforest_update_imports_cell) { window._pyforest_update_imports_cell('import pandas as pd\\nimport numpy as np'); }\n",
       "    "
      ],
      "text/plain": [
       "<IPython.core.display.Javascript object>"
      ]
     },
     "metadata": {},
     "output_type": "display_data"
    },
    {
     "data": {
      "application/javascript": [
       "\n",
       "        if (window._pyforest_update_imports_cell) { window._pyforest_update_imports_cell('import pandas as pd\\nimport numpy as np'); }\n",
       "    "
      ],
      "text/plain": [
       "<IPython.core.display.Javascript object>"
      ]
     },
     "metadata": {},
     "output_type": "display_data"
    },
    {
     "data": {
      "application/javascript": [
       "\n",
       "        if (window._pyforest_update_imports_cell) { window._pyforest_update_imports_cell('import pandas as pd\\nimport numpy as np'); }\n",
       "    "
      ],
      "text/plain": [
       "<IPython.core.display.Javascript object>"
      ]
     },
     "metadata": {},
     "output_type": "display_data"
    },
    {
     "data": {
      "application/javascript": [
       "\n",
       "        if (window._pyforest_update_imports_cell) { window._pyforest_update_imports_cell('import pandas as pd\\nimport numpy as np'); }\n",
       "    "
      ],
      "text/plain": [
       "<IPython.core.display.Javascript object>"
      ]
     },
     "metadata": {},
     "output_type": "display_data"
    },
    {
     "data": {
      "application/javascript": [
       "\n",
       "        if (window._pyforest_update_imports_cell) { window._pyforest_update_imports_cell('import pandas as pd\\nimport numpy as np'); }\n",
       "    "
      ],
      "text/plain": [
       "<IPython.core.display.Javascript object>"
      ]
     },
     "metadata": {},
     "output_type": "display_data"
    },
    {
     "data": {
      "application/javascript": [
       "\n",
       "        if (window._pyforest_update_imports_cell) { window._pyforest_update_imports_cell('import pandas as pd\\nimport numpy as np'); }\n",
       "    "
      ],
      "text/plain": [
       "<IPython.core.display.Javascript object>"
      ]
     },
     "metadata": {},
     "output_type": "display_data"
    },
    {
     "data": {
      "application/javascript": [
       "\n",
       "        if (window._pyforest_update_imports_cell) { window._pyforest_update_imports_cell('import pandas as pd\\nimport numpy as np'); }\n",
       "    "
      ],
      "text/plain": [
       "<IPython.core.display.Javascript object>"
      ]
     },
     "metadata": {},
     "output_type": "display_data"
    },
    {
     "data": {
      "application/javascript": [
       "\n",
       "        if (window._pyforest_update_imports_cell) { window._pyforest_update_imports_cell('import pandas as pd\\nimport numpy as np'); }\n",
       "    "
      ],
      "text/plain": [
       "<IPython.core.display.Javascript object>"
      ]
     },
     "metadata": {},
     "output_type": "display_data"
    },
    {
     "data": {
      "application/javascript": [
       "\n",
       "        if (window._pyforest_update_imports_cell) { window._pyforest_update_imports_cell('import pandas as pd\\nimport numpy as np'); }\n",
       "    "
      ],
      "text/plain": [
       "<IPython.core.display.Javascript object>"
      ]
     },
     "metadata": {},
     "output_type": "display_data"
    },
    {
     "data": {
      "application/javascript": [
       "\n",
       "        if (window._pyforest_update_imports_cell) { window._pyforest_update_imports_cell('import pandas as pd\\nimport numpy as np'); }\n",
       "    "
      ],
      "text/plain": [
       "<IPython.core.display.Javascript object>"
      ]
     },
     "metadata": {},
     "output_type": "display_data"
    },
    {
     "name": "stdout",
     "output_type": "stream",
     "text": [
      "      w  v  q  r  d  s  n  m  p  i  X5\n",
      "0     0  0  0  0  0  0  0  0  0  0   u\n",
      "1     0  0  0  0  0  0  0  0  0  0   y\n",
      "2     0  0  0  0  0  0  0  0  0  0   x\n",
      "3     0  0  0  0  0  0  0  0  0  0   x\n",
      "4     0  0  0  0  0  0  0  0  0  0   h\n",
      "5     0  0  0  0  0  0  0  0  0  0   g\n",
      "6     0  0  0  0  0  0  0  0  0  0   f\n",
      "7     0  0  0  0  0  0  0  0  0  0   f\n",
      "8     0  0  0  0  0  0  0  0  0  0   f\n",
      "9     0  0  0  0  0  0  0  0  0  0   f\n",
      "10    0  0  0  0  0  0  0  0  0  0   f\n",
      "11    0  0  0  0  0  0  0  0  0  0   f\n",
      "12    0  0  0  0  0  0  0  0  0  0   f\n",
      "13    0  0  0  0  0  0  0  0  0  0   j\n",
      "14    0  0  0  0  0  0  0  0  0  0   j\n",
      "15    0  0  0  0  0  0  0  0  0  0   j\n",
      "16    0  0  0  0  0  0  0  0  0  0   j\n",
      "17    0  0  0  0  0  0  0  0  0  0   j\n",
      "18    0  0  0  0  0  0  0  0  0  0   j\n",
      "19    0  0  0  0  0  0  0  0  0  0   j\n",
      "20    0  0  0  0  0  0  0  0  0  0   j\n",
      "21    0  0  0  0  0  0  0  0  0  0   j\n",
      "22    0  0  0  0  0  0  0  0  0  0   j\n",
      "23    0  0  0  0  0  0  0  0  0  0   j\n",
      "24    0  0  0  0  0  0  0  0  0  0   j\n",
      "25    0  0  0  0  0  0  0  0  0  0   j\n",
      "26    0  0  0  0  0  0  0  0  0  0   j\n",
      "27    0  0  0  0  0  0  0  0  0  0   j\n",
      "28    0  0  0  0  0  0  0  0  0  0   j\n",
      "29    0  0  0  0  0  0  0  0  0  0   j\n",
      "...  .. .. .. .. .. .. .. .. .. ..  ..\n",
      "4179  0  0  0  0  0  0  0  0  0  0  aa\n",
      "4180  0  0  0  0  0  0  0  0  0  0  aa\n",
      "4181  0  0  0  0  0  0  0  0  0  0  aa\n",
      "4182  0  0  0  0  0  0  0  0  0  0  aa\n",
      "4183  0  0  0  0  0  0  0  0  0  0  aa\n",
      "4184  0  0  0  0  0  0  0  0  0  0  aa\n",
      "4185  0  0  0  0  0  0  0  0  0  0  aa\n",
      "4186  0  0  0  0  0  0  0  0  0  0  aa\n",
      "4187  0  0  0  0  0  0  0  0  0  0  aa\n",
      "4188  0  0  0  0  0  0  0  0  0  0  aa\n",
      "4189  0  0  0  0  0  0  0  0  0  0  aa\n",
      "4190  0  0  0  0  0  0  0  0  0  0  aa\n",
      "4191  0  0  0  0  0  0  0  0  0  0  aa\n",
      "4192  0  0  0  0  0  0  0  0  0  0  aa\n",
      "4193  0  0  0  0  0  0  0  0  0  0  aa\n",
      "4194  0  0  0  0  0  0  0  0  0  0  aa\n",
      "4195  0  0  0  0  0  0  0  0  0  0  aa\n",
      "4196  0  0  0  0  0  0  0  0  0  0  aa\n",
      "4197  0  0  0  0  0  0  0  0  0  0  aa\n",
      "4198  0  0  0  0  0  0  0  0  0  0  aa\n",
      "4199  0  0  0  0  0  0  0  0  0  0  aa\n",
      "4200  0  0  0  0  0  0  0  0  0  0  aa\n",
      "4201  0  0  0  0  0  0  0  0  0  0  aa\n",
      "4202  0  0  0  0  0  0  0  0  0  0  aa\n",
      "4203  0  0  0  0  0  0  0  0  0  0  aa\n",
      "4204  0  0  0  0  0  0  0  0  0  0  aa\n",
      "4205  0  0  0  0  0  0  0  0  0  0  aa\n",
      "4206  0  0  0  0  0  0  0  0  0  0  aa\n",
      "4207  0  0  0  0  0  0  0  0  0  0  aa\n",
      "4208  0  0  0  0  0  0  0  0  0  0  aa\n",
      "\n",
      "[4209 rows x 11 columns]\n",
      "['g', 'j', 'd', 'i', 'l', 'a', 'h', 'k', 'c', 'b']\n"
     ]
    },
    {
     "data": {
      "application/javascript": [
       "\n",
       "        if (window._pyforest_update_imports_cell) { window._pyforest_update_imports_cell('import pandas as pd\\nimport numpy as np'); }\n",
       "    "
      ],
      "text/plain": [
       "<IPython.core.display.Javascript object>"
      ]
     },
     "metadata": {},
     "output_type": "display_data"
    },
    {
     "data": {
      "application/javascript": [
       "\n",
       "        if (window._pyforest_update_imports_cell) { window._pyforest_update_imports_cell('import pandas as pd\\nimport numpy as np'); }\n",
       "    "
      ],
      "text/plain": [
       "<IPython.core.display.Javascript object>"
      ]
     },
     "metadata": {},
     "output_type": "display_data"
    },
    {
     "data": {
      "application/javascript": [
       "\n",
       "        if (window._pyforest_update_imports_cell) { window._pyforest_update_imports_cell('import pandas as pd\\nimport numpy as np'); }\n",
       "    "
      ],
      "text/plain": [
       "<IPython.core.display.Javascript object>"
      ]
     },
     "metadata": {},
     "output_type": "display_data"
    },
    {
     "data": {
      "application/javascript": [
       "\n",
       "        if (window._pyforest_update_imports_cell) { window._pyforest_update_imports_cell('import pandas as pd\\nimport numpy as np'); }\n",
       "    "
      ],
      "text/plain": [
       "<IPython.core.display.Javascript object>"
      ]
     },
     "metadata": {},
     "output_type": "display_data"
    },
    {
     "data": {
      "application/javascript": [
       "\n",
       "        if (window._pyforest_update_imports_cell) { window._pyforest_update_imports_cell('import pandas as pd\\nimport numpy as np'); }\n",
       "    "
      ],
      "text/plain": [
       "<IPython.core.display.Javascript object>"
      ]
     },
     "metadata": {},
     "output_type": "display_data"
    },
    {
     "data": {
      "application/javascript": [
       "\n",
       "        if (window._pyforest_update_imports_cell) { window._pyforest_update_imports_cell('import pandas as pd\\nimport numpy as np'); }\n",
       "    "
      ],
      "text/plain": [
       "<IPython.core.display.Javascript object>"
      ]
     },
     "metadata": {},
     "output_type": "display_data"
    },
    {
     "data": {
      "application/javascript": [
       "\n",
       "        if (window._pyforest_update_imports_cell) { window._pyforest_update_imports_cell('import pandas as pd\\nimport numpy as np'); }\n",
       "    "
      ],
      "text/plain": [
       "<IPython.core.display.Javascript object>"
      ]
     },
     "metadata": {},
     "output_type": "display_data"
    },
    {
     "data": {
      "application/javascript": [
       "\n",
       "        if (window._pyforest_update_imports_cell) { window._pyforest_update_imports_cell('import pandas as pd\\nimport numpy as np'); }\n",
       "    "
      ],
      "text/plain": [
       "<IPython.core.display.Javascript object>"
      ]
     },
     "metadata": {},
     "output_type": "display_data"
    },
    {
     "data": {
      "application/javascript": [
       "\n",
       "        if (window._pyforest_update_imports_cell) { window._pyforest_update_imports_cell('import pandas as pd\\nimport numpy as np'); }\n",
       "    "
      ],
      "text/plain": [
       "<IPython.core.display.Javascript object>"
      ]
     },
     "metadata": {},
     "output_type": "display_data"
    },
    {
     "data": {
      "application/javascript": [
       "\n",
       "        if (window._pyforest_update_imports_cell) { window._pyforest_update_imports_cell('import pandas as pd\\nimport numpy as np'); }\n",
       "    "
      ],
      "text/plain": [
       "<IPython.core.display.Javascript object>"
      ]
     },
     "metadata": {},
     "output_type": "display_data"
    },
    {
     "name": "stdout",
     "output_type": "stream",
     "text": [
      "      g  j  d  i  l  a  h  k  c  b X6\n",
      "0     0  1  0  0  0  0  0  0  0  0  j\n",
      "1     0  0  0  0  1  0  0  0  0  0  l\n",
      "2     0  1  0  0  0  0  0  0  0  0  j\n",
      "3     0  0  0  0  1  0  0  0  0  0  l\n",
      "4     0  0  1  0  0  0  0  0  0  0  d\n",
      "5     0  0  0  0  0  0  1  0  0  0  h\n",
      "6     0  0  0  0  0  0  1  0  0  0  h\n",
      "7     0  1  0  0  0  0  0  0  0  0  j\n",
      "8     0  0  0  1  0  0  0  0  0  0  i\n",
      "9     0  0  0  0  0  1  0  0  0  0  a\n",
      "10    0  0  0  0  0  0  1  0  0  0  h\n",
      "11    0  0  0  0  0  0  1  0  0  0  h\n",
      "12    1  0  0  0  0  0  0  0  0  0  g\n",
      "13    0  0  0  0  0  0  1  0  0  0  h\n",
      "14    1  0  0  0  0  0  0  0  0  0  g\n",
      "15    0  0  1  0  0  0  0  0  0  0  d\n",
      "16    0  0  0  0  0  0  1  0  0  0  h\n",
      "17    0  0  0  0  0  0  0  0  1  0  c\n",
      "18    0  0  1  0  0  0  0  0  0  0  d\n",
      "19    0  0  0  1  0  0  0  0  0  0  i\n",
      "20    0  1  0  0  0  0  0  0  0  0  j\n",
      "21    0  1  0  0  0  0  0  0  0  0  j\n",
      "22    0  1  0  0  0  0  0  0  0  0  j\n",
      "23    0  1  0  0  0  0  0  0  0  0  j\n",
      "24    0  0  1  0  0  0  0  0  0  0  d\n",
      "25    0  0  0  1  0  0  0  0  0  0  i\n",
      "26    1  0  0  0  0  0  0  0  0  0  g\n",
      "27    0  0  1  0  0  0  0  0  0  0  d\n",
      "28    0  0  0  0  0  0  0  0  1  0  c\n",
      "29    0  1  0  0  0  0  0  0  0  0  j\n",
      "...  .. .. .. .. .. .. .. .. .. .. ..\n",
      "4179  0  0  0  0  1  0  0  0  0  0  l\n",
      "4180  0  0  0  0  1  0  0  0  0  0  l\n",
      "4181  1  0  0  0  0  0  0  0  0  0  g\n",
      "4182  1  0  0  0  0  0  0  0  0  0  g\n",
      "4183  0  0  0  0  1  0  0  0  0  0  l\n",
      "4184  0  0  1  0  0  0  0  0  0  0  d\n",
      "4185  1  0  0  0  0  0  0  0  0  0  g\n",
      "4186  0  1  0  0  0  0  0  0  0  0  j\n",
      "4187  0  1  0  0  0  0  0  0  0  0  j\n",
      "4188  0  0  1  0  0  0  0  0  0  0  d\n",
      "4189  0  0  1  0  0  0  0  0  0  0  d\n",
      "4190  0  1  0  0  0  0  0  0  0  0  j\n",
      "4191  0  0  1  0  0  0  0  0  0  0  d\n",
      "4192  0  1  0  0  0  0  0  0  0  0  j\n",
      "4193  0  0  1  0  0  0  0  0  0  0  d\n",
      "4194  0  0  0  1  0  0  0  0  0  0  i\n",
      "4195  1  0  0  0  0  0  0  0  0  0  g\n",
      "4196  0  0  0  0  1  0  0  0  0  0  l\n",
      "4197  0  0  1  0  0  0  0  0  0  0  d\n",
      "4198  0  0  0  0  0  0  1  0  0  0  h\n",
      "4199  0  0  0  0  1  0  0  0  0  0  l\n",
      "4200  0  0  0  1  0  0  0  0  0  0  i\n",
      "4201  0  0  0  0  0  0  1  0  0  0  h\n",
      "4202  0  0  1  0  0  0  0  0  0  0  d\n",
      "4203  0  0  0  0  0  1  0  0  0  0  a\n",
      "4204  0  0  1  0  0  0  0  0  0  0  d\n",
      "4205  0  0  0  0  0  0  1  0  0  0  h\n",
      "4206  1  0  0  0  0  0  0  0  0  0  g\n",
      "4207  0  0  0  0  1  0  0  0  0  0  l\n",
      "4208  1  0  0  0  0  0  0  0  0  0  g\n",
      "\n",
      "[4209 rows x 11 columns]\n"
     ]
    }
   ],
   "source": [
    "for variable in [\"X0\",\"X1\",\"X2\",\"X3\",\"X4\",\"X5\",\"X6\"]:\n",
    "    multi_encode(variable,top_10_all)"
   ]
  },
  {
   "cell_type": "markdown",
   "metadata": {},
   "source": [
    "### Ordinal Number Encoding"
   ]
  },
  {
   "cell_type": "code",
   "execution_count": null,
   "metadata": {},
   "outputs": [],
   "source": [
    "import datetime"
   ]
  },
  {
   "cell_type": "code",
   "execution_count": null,
   "metadata": {},
   "outputs": [],
   "source": [
    "dt.time"
   ]
  },
  {
   "cell_type": "code",
   "execution_count": null,
   "metadata": {},
   "outputs": [],
   "source": [
    "today_date = datetime.datetime.today()"
   ]
  },
  {
   "cell_type": "code",
   "execution_count": null,
   "metadata": {},
   "outputs": [],
   "source": [
    "today_date"
   ]
  },
  {
   "cell_type": "code",
   "execution_count": null,
   "metadata": {},
   "outputs": [],
   "source": [
    "today_date - datetime.timedelta(2)"
   ]
  },
  {
   "cell_type": "code",
   "execution_count": null,
   "metadata": {},
   "outputs": [],
   "source": [
    "# list comprehension\n",
    "new_day = [today_date - datetime.timedelta(i) for i in range(0,15)]"
   ]
  },
  {
   "cell_type": "code",
   "execution_count": null,
   "metadata": {},
   "outputs": [],
   "source": [
    "new_day"
   ]
  },
  {
   "cell_type": "code",
   "execution_count": null,
   "metadata": {},
   "outputs": [],
   "source": [
    "pd.DataFrame(new_day)"
   ]
  },
  {
   "cell_type": "code",
   "execution_count": null,
   "metadata": {},
   "outputs": [],
   "source": [
    "data= pd.DataFrame(new_day)\n",
    "data.columns = [\"Day\"]\n",
    "data.head()"
   ]
  },
  {
   "cell_type": "code",
   "execution_count": null,
   "metadata": {},
   "outputs": [],
   "source": [
    "data[\"Weekday\"] =  data[\"Day\"].dt.weekday_name\n",
    "data.head(10)"
   ]
  },
  {
   "cell_type": "code",
   "execution_count": null,
   "metadata": {},
   "outputs": [],
   "source": [
    "dictionary = {'Monday':1, 'Tuesday':2, 'Wednesday':3,'Thursday':4,'Friday':5,'Saturday':6,'Sunday':7}"
   ]
  },
  {
   "cell_type": "code",
   "execution_count": null,
   "metadata": {},
   "outputs": [],
   "source": [
    "data[\"Weekday_ordinal\"] = data[\"Weekday\"].map(dictionary)"
   ]
  },
  {
   "cell_type": "code",
   "execution_count": null,
   "metadata": {},
   "outputs": [],
   "source": [
    "data.head()"
   ]
  },
  {
   "cell_type": "markdown",
   "metadata": {},
   "source": [
    "## Count or Frequency encoding"
   ]
  },
  {
   "cell_type": "code",
   "execution_count": null,
   "metadata": {},
   "outputs": [],
   "source": [
    "train_set = pd.read_csv('http://archive.ics.uci.edu/ml/machine-learning-databases/adult/adult.data' , header = None,index_col=None)\n",
    "train_set.head()                                                         "
   ]
  },
  {
   "cell_type": "code",
   "execution_count": null,
   "metadata": {},
   "outputs": [],
   "source": [
    "columns = [1,3,5,6,7,8,9,13]"
   ]
  },
  {
   "cell_type": "code",
   "execution_count": null,
   "metadata": {},
   "outputs": [],
   "source": [
    "train_set = train_set[columns]"
   ]
  },
  {
   "cell_type": "code",
   "execution_count": null,
   "metadata": {},
   "outputs": [],
   "source": [
    "train_set.columns=['Employment','Degree','Status',\n",
    "                 'Designation','family_job','Race','Sex','Country']"
   ]
  },
  {
   "cell_type": "code",
   "execution_count": null,
   "metadata": {},
   "outputs": [],
   "source": [
    "train_set.head()"
   ]
  },
  {
   "cell_type": "code",
   "execution_count": null,
   "metadata": {},
   "outputs": [],
   "source": [
    "train_set.shape"
   ]
  },
  {
   "cell_type": "code",
   "execution_count": null,
   "metadata": {},
   "outputs": [],
   "source": [
    "country_data = train_set['Country'].value_counts()\n",
    "country_data"
   ]
  },
  {
   "cell_type": "code",
   "execution_count": null,
   "metadata": {},
   "outputs": [],
   "source": [
    "for feature in train_set.columns:\n",
    "    print(feature,\":\",len(train_set[feature].value_counts()),\"Labels\")"
   ]
  },
  {
   "cell_type": "code",
   "execution_count": null,
   "metadata": {},
   "outputs": [],
   "source": [
    "country_data = train_set['Country'].value_counts()\n",
    "country_data"
   ]
  },
  {
   "cell_type": "code",
   "execution_count": null,
   "metadata": {},
   "outputs": [],
   "source": [
    "country_data = train_set['Country'].value_counts().to_dict()"
   ]
  },
  {
   "cell_type": "code",
   "execution_count": null,
   "metadata": {},
   "outputs": [],
   "source": [
    "country_data"
   ]
  },
  {
   "cell_type": "code",
   "execution_count": null,
   "metadata": {},
   "outputs": [],
   "source": [
    "train_set['Country'] =train_set['Country'].map(country_data)\n",
    "train_set.head(10)"
   ]
  },
  {
   "cell_type": "markdown",
   "metadata": {},
   "source": [
    "### Target Guided Encoding"
   ]
  },
  {
   "cell_type": "code",
   "execution_count": 4,
   "metadata": {},
   "outputs": [
    {
     "data": {
      "application/javascript": [
       "\n",
       "        if (window._pyforest_update_imports_cell) { window._pyforest_update_imports_cell('import pandas as pd'); }\n",
       "    "
      ],
      "text/plain": [
       "<IPython.core.display.Javascript object>"
      ]
     },
     "metadata": {},
     "output_type": "display_data"
    },
    {
     "data": {
      "text/html": [
       "<div>\n",
       "<style scoped>\n",
       "    .dataframe tbody tr th:only-of-type {\n",
       "        vertical-align: middle;\n",
       "    }\n",
       "\n",
       "    .dataframe tbody tr th {\n",
       "        vertical-align: top;\n",
       "    }\n",
       "\n",
       "    .dataframe thead th {\n",
       "        text-align: right;\n",
       "    }\n",
       "</style>\n",
       "<table border=\"1\" class=\"dataframe\">\n",
       "  <thead>\n",
       "    <tr style=\"text-align: right;\">\n",
       "      <th></th>\n",
       "      <th>Survived</th>\n",
       "      <th>Cabin</th>\n",
       "    </tr>\n",
       "  </thead>\n",
       "  <tbody>\n",
       "    <tr>\n",
       "      <th>0</th>\n",
       "      <td>0</td>\n",
       "      <td>NaN</td>\n",
       "    </tr>\n",
       "    <tr>\n",
       "      <th>1</th>\n",
       "      <td>1</td>\n",
       "      <td>C85</td>\n",
       "    </tr>\n",
       "    <tr>\n",
       "      <th>2</th>\n",
       "      <td>1</td>\n",
       "      <td>NaN</td>\n",
       "    </tr>\n",
       "    <tr>\n",
       "      <th>3</th>\n",
       "      <td>1</td>\n",
       "      <td>C123</td>\n",
       "    </tr>\n",
       "    <tr>\n",
       "      <th>4</th>\n",
       "      <td>0</td>\n",
       "      <td>NaN</td>\n",
       "    </tr>\n",
       "  </tbody>\n",
       "</table>\n",
       "</div>"
      ],
      "text/plain": [
       "   Survived Cabin\n",
       "0         0   NaN\n",
       "1         1   C85\n",
       "2         1   NaN\n",
       "3         1  C123\n",
       "4         0   NaN"
      ]
     },
     "execution_count": 4,
     "metadata": {},
     "output_type": "execute_result"
    }
   ],
   "source": [
    "df = pd.read_csv(\"titanic.csv\", usecols=['Cabin','Survived'])\n",
    "df.head()"
   ]
  },
  {
   "cell_type": "code",
   "execution_count": 5,
   "metadata": {},
   "outputs": [],
   "source": [
    "df['Cabin'] = df['Cabin'].fillna('Missing')"
   ]
  },
  {
   "cell_type": "code",
   "execution_count": 6,
   "metadata": {},
   "outputs": [
    {
     "data": {
      "text/html": [
       "<div>\n",
       "<style scoped>\n",
       "    .dataframe tbody tr th:only-of-type {\n",
       "        vertical-align: middle;\n",
       "    }\n",
       "\n",
       "    .dataframe tbody tr th {\n",
       "        vertical-align: top;\n",
       "    }\n",
       "\n",
       "    .dataframe thead th {\n",
       "        text-align: right;\n",
       "    }\n",
       "</style>\n",
       "<table border=\"1\" class=\"dataframe\">\n",
       "  <thead>\n",
       "    <tr style=\"text-align: right;\">\n",
       "      <th></th>\n",
       "      <th>Survived</th>\n",
       "      <th>Cabin</th>\n",
       "    </tr>\n",
       "  </thead>\n",
       "  <tbody>\n",
       "    <tr>\n",
       "      <th>0</th>\n",
       "      <td>0</td>\n",
       "      <td>Missing</td>\n",
       "    </tr>\n",
       "    <tr>\n",
       "      <th>1</th>\n",
       "      <td>1</td>\n",
       "      <td>C85</td>\n",
       "    </tr>\n",
       "    <tr>\n",
       "      <th>2</th>\n",
       "      <td>1</td>\n",
       "      <td>Missing</td>\n",
       "    </tr>\n",
       "    <tr>\n",
       "      <th>3</th>\n",
       "      <td>1</td>\n",
       "      <td>C123</td>\n",
       "    </tr>\n",
       "    <tr>\n",
       "      <th>4</th>\n",
       "      <td>0</td>\n",
       "      <td>Missing</td>\n",
       "    </tr>\n",
       "  </tbody>\n",
       "</table>\n",
       "</div>"
      ],
      "text/plain": [
       "   Survived    Cabin\n",
       "0         0  Missing\n",
       "1         1      C85\n",
       "2         1  Missing\n",
       "3         1     C123\n",
       "4         0  Missing"
      ]
     },
     "execution_count": 6,
     "metadata": {},
     "output_type": "execute_result"
    }
   ],
   "source": [
    "df.head()"
   ]
  },
  {
   "cell_type": "code",
   "execution_count": 7,
   "metadata": {},
   "outputs": [],
   "source": [
    "df['Cabin']= df['Cabin'].astype(str).str[0]"
   ]
  },
  {
   "cell_type": "code",
   "execution_count": 8,
   "metadata": {},
   "outputs": [
    {
     "data": {
      "text/html": [
       "<div>\n",
       "<style scoped>\n",
       "    .dataframe tbody tr th:only-of-type {\n",
       "        vertical-align: middle;\n",
       "    }\n",
       "\n",
       "    .dataframe tbody tr th {\n",
       "        vertical-align: top;\n",
       "    }\n",
       "\n",
       "    .dataframe thead th {\n",
       "        text-align: right;\n",
       "    }\n",
       "</style>\n",
       "<table border=\"1\" class=\"dataframe\">\n",
       "  <thead>\n",
       "    <tr style=\"text-align: right;\">\n",
       "      <th></th>\n",
       "      <th>Survived</th>\n",
       "      <th>Cabin</th>\n",
       "    </tr>\n",
       "  </thead>\n",
       "  <tbody>\n",
       "    <tr>\n",
       "      <th>0</th>\n",
       "      <td>0</td>\n",
       "      <td>M</td>\n",
       "    </tr>\n",
       "    <tr>\n",
       "      <th>1</th>\n",
       "      <td>1</td>\n",
       "      <td>C</td>\n",
       "    </tr>\n",
       "    <tr>\n",
       "      <th>2</th>\n",
       "      <td>1</td>\n",
       "      <td>M</td>\n",
       "    </tr>\n",
       "    <tr>\n",
       "      <th>3</th>\n",
       "      <td>1</td>\n",
       "      <td>C</td>\n",
       "    </tr>\n",
       "    <tr>\n",
       "      <th>4</th>\n",
       "      <td>0</td>\n",
       "      <td>M</td>\n",
       "    </tr>\n",
       "  </tbody>\n",
       "</table>\n",
       "</div>"
      ],
      "text/plain": [
       "   Survived Cabin\n",
       "0         0     M\n",
       "1         1     C\n",
       "2         1     M\n",
       "3         1     C\n",
       "4         0     M"
      ]
     },
     "execution_count": 8,
     "metadata": {},
     "output_type": "execute_result"
    }
   ],
   "source": [
    "df.head()"
   ]
  },
  {
   "cell_type": "code",
   "execution_count": 9,
   "metadata": {},
   "outputs": [
    {
     "data": {
      "text/plain": [
       "array(['M', 'C', 'E', 'G', 'D', 'A', 'B', 'F', 'T'], dtype=object)"
      ]
     },
     "execution_count": 9,
     "metadata": {},
     "output_type": "execute_result"
    }
   ],
   "source": [
    "df['Cabin'].unique()"
   ]
  },
  {
   "cell_type": "code",
   "execution_count": 11,
   "metadata": {},
   "outputs": [
    {
     "data": {
      "text/plain": [
       "Cabin\n",
       "A    0.466667\n",
       "B    0.744681\n",
       "C    0.593220\n",
       "D    0.757576\n",
       "E    0.750000\n",
       "F    0.615385\n",
       "G    0.500000\n",
       "M    0.299854\n",
       "T    0.000000\n",
       "Name: Survived, dtype: float64"
      ]
     },
     "execution_count": 11,
     "metadata": {},
     "output_type": "execute_result"
    }
   ],
   "source": [
    "df.groupby(df['Cabin'])['Survived'].mean()"
   ]
  },
  {
   "cell_type": "code",
   "execution_count": 12,
   "metadata": {},
   "outputs": [
    {
     "data": {
      "text/plain": [
       "Index(['T', 'M', 'A', 'G', 'C', 'F', 'B', 'E', 'D'], dtype='object', name='Cabin')"
      ]
     },
     "execution_count": 12,
     "metadata": {},
     "output_type": "execute_result"
    }
   ],
   "source": [
    "df.groupby(df['Cabin'])['Survived'].mean().sort_values().index"
   ]
  },
  {
   "cell_type": "code",
   "execution_count": 13,
   "metadata": {},
   "outputs": [],
   "source": [
    "target_ordinal = df.groupby(df['Cabin'])['Survived'].mean().sort_values().index"
   ]
  },
  {
   "cell_type": "code",
   "execution_count": 14,
   "metadata": {},
   "outputs": [
    {
     "data": {
      "text/plain": [
       "<enumerate at 0x197155ac288>"
      ]
     },
     "execution_count": 14,
     "metadata": {},
     "output_type": "execute_result"
    }
   ],
   "source": [
    "enumerate(target_ordinal,0)"
   ]
  },
  {
   "cell_type": "code",
   "execution_count": 15,
   "metadata": {},
   "outputs": [],
   "source": [
    "target_ordinal_dict = {k:v for v,k in enumerate(target_ordinal,0)}"
   ]
  },
  {
   "cell_type": "code",
   "execution_count": 16,
   "metadata": {},
   "outputs": [
    {
     "data": {
      "text/plain": [
       "{'T': 0, 'M': 1, 'A': 2, 'G': 3, 'C': 4, 'F': 5, 'B': 6, 'E': 7, 'D': 8}"
      ]
     },
     "execution_count": 16,
     "metadata": {},
     "output_type": "execute_result"
    }
   ],
   "source": [
    "target_ordinal_dict"
   ]
  },
  {
   "cell_type": "code",
   "execution_count": 17,
   "metadata": {},
   "outputs": [
    {
     "data": {
      "text/html": [
       "<div>\n",
       "<style scoped>\n",
       "    .dataframe tbody tr th:only-of-type {\n",
       "        vertical-align: middle;\n",
       "    }\n",
       "\n",
       "    .dataframe tbody tr th {\n",
       "        vertical-align: top;\n",
       "    }\n",
       "\n",
       "    .dataframe thead th {\n",
       "        text-align: right;\n",
       "    }\n",
       "</style>\n",
       "<table border=\"1\" class=\"dataframe\">\n",
       "  <thead>\n",
       "    <tr style=\"text-align: right;\">\n",
       "      <th></th>\n",
       "      <th>Survived</th>\n",
       "      <th>Cabin</th>\n",
       "      <th>Cabin_class</th>\n",
       "    </tr>\n",
       "  </thead>\n",
       "  <tbody>\n",
       "    <tr>\n",
       "      <th>0</th>\n",
       "      <td>0</td>\n",
       "      <td>M</td>\n",
       "      <td>1</td>\n",
       "    </tr>\n",
       "    <tr>\n",
       "      <th>1</th>\n",
       "      <td>1</td>\n",
       "      <td>C</td>\n",
       "      <td>4</td>\n",
       "    </tr>\n",
       "    <tr>\n",
       "      <th>2</th>\n",
       "      <td>1</td>\n",
       "      <td>M</td>\n",
       "      <td>1</td>\n",
       "    </tr>\n",
       "    <tr>\n",
       "      <th>3</th>\n",
       "      <td>1</td>\n",
       "      <td>C</td>\n",
       "      <td>4</td>\n",
       "    </tr>\n",
       "    <tr>\n",
       "      <th>4</th>\n",
       "      <td>0</td>\n",
       "      <td>M</td>\n",
       "      <td>1</td>\n",
       "    </tr>\n",
       "  </tbody>\n",
       "</table>\n",
       "</div>"
      ],
      "text/plain": [
       "   Survived Cabin  Cabin_class\n",
       "0         0     M            1\n",
       "1         1     C            4\n",
       "2         1     M            1\n",
       "3         1     C            4\n",
       "4         0     M            1"
      ]
     },
     "execution_count": 17,
     "metadata": {},
     "output_type": "execute_result"
    }
   ],
   "source": [
    "df['Cabin_class'] = df['Cabin'].map(target_ordinal_dict)\n",
    "df.head()"
   ]
  },
  {
   "cell_type": "markdown",
   "metadata": {},
   "source": [
    "### Mean Encoding"
   ]
  },
  {
   "cell_type": "code",
   "execution_count": 18,
   "metadata": {},
   "outputs": [
    {
     "data": {
      "text/plain": [
       "Cabin\n",
       "A    0.466667\n",
       "B    0.744681\n",
       "C    0.593220\n",
       "D    0.757576\n",
       "E    0.750000\n",
       "F    0.615385\n",
       "G    0.500000\n",
       "M    0.299854\n",
       "T    0.000000\n",
       "Name: Survived, dtype: float64"
      ]
     },
     "execution_count": 18,
     "metadata": {},
     "output_type": "execute_result"
    }
   ],
   "source": [
    "df.groupby(df['Cabin'])['Survived'].mean()"
   ]
  },
  {
   "cell_type": "code",
   "execution_count": 20,
   "metadata": {},
   "outputs": [],
   "source": [
    "mean_ordinal = df.groupby(df['Cabin'])['Survived'].mean().to_dict()"
   ]
  },
  {
   "cell_type": "code",
   "execution_count": 22,
   "metadata": {},
   "outputs": [
    {
     "data": {
      "text/html": [
       "<div>\n",
       "<style scoped>\n",
       "    .dataframe tbody tr th:only-of-type {\n",
       "        vertical-align: middle;\n",
       "    }\n",
       "\n",
       "    .dataframe tbody tr th {\n",
       "        vertical-align: top;\n",
       "    }\n",
       "\n",
       "    .dataframe thead th {\n",
       "        text-align: right;\n",
       "    }\n",
       "</style>\n",
       "<table border=\"1\" class=\"dataframe\">\n",
       "  <thead>\n",
       "    <tr style=\"text-align: right;\">\n",
       "      <th></th>\n",
       "      <th>Survived</th>\n",
       "      <th>Cabin</th>\n",
       "      <th>Cabin_class</th>\n",
       "      <th>mean_ordinal</th>\n",
       "    </tr>\n",
       "  </thead>\n",
       "  <tbody>\n",
       "    <tr>\n",
       "      <th>0</th>\n",
       "      <td>0</td>\n",
       "      <td>M</td>\n",
       "      <td>1</td>\n",
       "      <td>0.299854</td>\n",
       "    </tr>\n",
       "    <tr>\n",
       "      <th>1</th>\n",
       "      <td>1</td>\n",
       "      <td>C</td>\n",
       "      <td>4</td>\n",
       "      <td>0.593220</td>\n",
       "    </tr>\n",
       "    <tr>\n",
       "      <th>2</th>\n",
       "      <td>1</td>\n",
       "      <td>M</td>\n",
       "      <td>1</td>\n",
       "      <td>0.299854</td>\n",
       "    </tr>\n",
       "    <tr>\n",
       "      <th>3</th>\n",
       "      <td>1</td>\n",
       "      <td>C</td>\n",
       "      <td>4</td>\n",
       "      <td>0.593220</td>\n",
       "    </tr>\n",
       "    <tr>\n",
       "      <th>4</th>\n",
       "      <td>0</td>\n",
       "      <td>M</td>\n",
       "      <td>1</td>\n",
       "      <td>0.299854</td>\n",
       "    </tr>\n",
       "  </tbody>\n",
       "</table>\n",
       "</div>"
      ],
      "text/plain": [
       "   Survived Cabin  Cabin_class  mean_ordinal\n",
       "0         0     M            1      0.299854\n",
       "1         1     C            4      0.593220\n",
       "2         1     M            1      0.299854\n",
       "3         1     C            4      0.593220\n",
       "4         0     M            1      0.299854"
      ]
     },
     "execution_count": 22,
     "metadata": {},
     "output_type": "execute_result"
    }
   ],
   "source": [
    "df['mean_ordinal'] = df['Cabin'].map(mean_ordinal)\n",
    "df.head()"
   ]
  },
  {
   "cell_type": "markdown",
   "metadata": {},
   "source": [
    "## Probability Ratio Encoding"
   ]
  },
  {
   "cell_type": "code",
<<<<<<< HEAD
   "execution_count": 48,
=======
   "execution_count": 73,
>>>>>>> 0964895ef5c0c171e3fa178f4c6213ba73ff5cd4
   "metadata": {},
   "outputs": [
    {
     "data": {
      "application/javascript": [
       "\n",
<<<<<<< HEAD
       "        if (window._pyforest_update_imports_cell) { window._pyforest_update_imports_cell('import pandas as pd\\nimport numpy as np'); }\n",
=======
       "        if (window._pyforest_update_imports_cell) { window._pyforest_update_imports_cell('from sklearn.preprocessing import OneHotEncoder\\nimport re\\nfrom sklearn.model_selection import train_test_split\\nimport bokeh\\nimport pandas as pd\\nimport matplotlib.pyplot as plt\\nimport numpy as np\\nimport nltk\\nimport pickle'); }\n",
>>>>>>> 0964895ef5c0c171e3fa178f4c6213ba73ff5cd4
       "    "
      ],
      "text/plain": [
       "<IPython.core.display.Javascript object>"
      ]
     },
     "metadata": {},
     "output_type": "display_data"
    },
    {
     "data": {
      "text/html": [
       "<div>\n",
       "<style scoped>\n",
       "    .dataframe tbody tr th:only-of-type {\n",
       "        vertical-align: middle;\n",
       "    }\n",
       "\n",
       "    .dataframe tbody tr th {\n",
       "        vertical-align: top;\n",
       "    }\n",
       "\n",
       "    .dataframe thead th {\n",
       "        text-align: right;\n",
       "    }\n",
       "</style>\n",
       "<table border=\"1\" class=\"dataframe\">\n",
       "  <thead>\n",
       "    <tr style=\"text-align: right;\">\n",
       "      <th></th>\n",
       "      <th>Survived</th>\n",
       "      <th>Cabin</th>\n",
       "    </tr>\n",
       "  </thead>\n",
       "  <tbody>\n",
       "    <tr>\n",
       "      <th>0</th>\n",
       "      <td>0</td>\n",
       "      <td>NaN</td>\n",
       "    </tr>\n",
       "    <tr>\n",
       "      <th>1</th>\n",
       "      <td>1</td>\n",
       "      <td>C85</td>\n",
       "    </tr>\n",
       "    <tr>\n",
       "      <th>2</th>\n",
       "      <td>1</td>\n",
       "      <td>NaN</td>\n",
       "    </tr>\n",
       "    <tr>\n",
       "      <th>3</th>\n",
       "      <td>1</td>\n",
       "      <td>C123</td>\n",
       "    </tr>\n",
       "    <tr>\n",
       "      <th>4</th>\n",
       "      <td>0</td>\n",
       "      <td>NaN</td>\n",
       "    </tr>\n",
       "  </tbody>\n",
       "</table>\n",
       "</div>"
      ],
      "text/plain": [
       "   Survived Cabin\n",
       "0         0   NaN\n",
       "1         1   C85\n",
       "2         1   NaN\n",
       "3         1  C123\n",
       "4         0   NaN"
      ]
     },
<<<<<<< HEAD
     "execution_count": 48,
=======
     "execution_count": 73,
>>>>>>> 0964895ef5c0c171e3fa178f4c6213ba73ff5cd4
     "metadata": {},
     "output_type": "execute_result"
    }
   ],
   "source": [
    "df = pd.read_csv(\"titanic.csv\", usecols=['Cabin','Survived'])\n",
    "df.head()"
   ]
  },
  {
   "cell_type": "code",
<<<<<<< HEAD
   "execution_count": 49,
=======
   "execution_count": 74,
>>>>>>> 0964895ef5c0c171e3fa178f4c6213ba73ff5cd4
   "metadata": {},
   "outputs": [],
   "source": [
    "df['Cabin'] = df['Cabin'].fillna('Missing')"
   ]
  },
  {
   "cell_type": "code",
   "execution_count": 75,
   "metadata": {},
   "outputs": [],
   "source": [
    "df['Cabin']= df['Cabin'].astype(str).str[0]"
   ]
  },
  {
   "cell_type": "code",
   "execution_count": 76,
   "metadata": {},
   "outputs": [
    {
     "data": {
      "text/plain": [
       "array(['M', 'C', 'E', 'G', 'D', 'A', 'B', 'F', 'T'], dtype=object)"
      ]
     },
     "execution_count": 76,
     "metadata": {},
     "output_type": "execute_result"
    }
   ],
   "source": [
    "df['Cabin'].unique()"
   ]
  },
  {
   "cell_type": "code",
   "execution_count": 77,
   "metadata": {},
   "outputs": [],
   "source": [
    "mean_od = df.groupby(df['Cabin'])['Survived'].mean()"
   ]
  },
  {
   "cell_type": "code",
   "execution_count": 78,
   "metadata": {},
   "outputs": [
    {
     "data": {
      "application/javascript": [
       "\n",
       "        if (window._pyforest_update_imports_cell) { window._pyforest_update_imports_cell('from sklearn.preprocessing import OneHotEncoder\\nimport re\\nfrom sklearn.model_selection import train_test_split\\nimport bokeh\\nimport pandas as pd\\nimport matplotlib.pyplot as plt\\nimport numpy as np\\nimport nltk\\nimport pickle'); }\n",
       "    "
      ],
      "text/plain": [
       "<IPython.core.display.Javascript object>"
      ]
     },
     "metadata": {},
     "output_type": "display_data"
    },
    {
     "data": {
      "text/html": [
       "<div>\n",
       "<style scoped>\n",
       "    .dataframe tbody tr th:only-of-type {\n",
       "        vertical-align: middle;\n",
       "    }\n",
       "\n",
       "    .dataframe tbody tr th {\n",
       "        vertical-align: top;\n",
       "    }\n",
       "\n",
       "    .dataframe thead th {\n",
       "        text-align: right;\n",
       "    }\n",
       "</style>\n",
       "<table border=\"1\" class=\"dataframe\">\n",
       "  <thead>\n",
       "    <tr style=\"text-align: right;\">\n",
       "      <th></th>\n",
       "      <th>Survived</th>\n",
       "    </tr>\n",
       "    <tr>\n",
       "      <th>Cabin</th>\n",
       "      <th></th>\n",
       "    </tr>\n",
       "  </thead>\n",
       "  <tbody>\n",
       "    <tr>\n",
       "      <th>A</th>\n",
       "      <td>0.466667</td>\n",
       "    </tr>\n",
       "    <tr>\n",
       "      <th>B</th>\n",
       "      <td>0.744681</td>\n",
       "    </tr>\n",
       "    <tr>\n",
       "      <th>C</th>\n",
       "      <td>0.593220</td>\n",
       "    </tr>\n",
       "    <tr>\n",
       "      <th>D</th>\n",
       "      <td>0.757576</td>\n",
       "    </tr>\n",
       "    <tr>\n",
       "      <th>E</th>\n",
       "      <td>0.750000</td>\n",
       "    </tr>\n",
       "    <tr>\n",
       "      <th>F</th>\n",
       "      <td>0.615385</td>\n",
       "    </tr>\n",
       "    <tr>\n",
       "      <th>G</th>\n",
       "      <td>0.500000</td>\n",
       "    </tr>\n",
       "    <tr>\n",
       "      <th>M</th>\n",
       "      <td>0.299854</td>\n",
       "    </tr>\n",
       "    <tr>\n",
       "      <th>T</th>\n",
       "      <td>0.000000</td>\n",
       "    </tr>\n",
       "  </tbody>\n",
       "</table>\n",
       "</div>"
      ],
      "text/plain": [
       "       Survived\n",
       "Cabin          \n",
       "A      0.466667\n",
       "B      0.744681\n",
       "C      0.593220\n",
       "D      0.757576\n",
       "E      0.750000\n",
       "F      0.615385\n",
       "G      0.500000\n",
       "M      0.299854\n",
       "T      0.000000"
      ]
     },
     "execution_count": 78,
     "metadata": {},
     "output_type": "execute_result"
    }
   ],
   "source": [
    "prob_df = pd.DataFrame(mean_od)\n",
    "prob_df"
   ]
  },
  {
   "cell_type": "code",
   "execution_count": 79,
   "metadata": {},
   "outputs": [
    {
     "data": {
      "text/html": [
       "<div>\n",
       "<style scoped>\n",
       "    .dataframe tbody tr th:only-of-type {\n",
       "        vertical-align: middle;\n",
       "    }\n",
       "\n",
       "    .dataframe tbody tr th {\n",
       "        vertical-align: top;\n",
       "    }\n",
       "\n",
       "    .dataframe thead th {\n",
       "        text-align: right;\n",
       "    }\n",
       "</style>\n",
       "<table border=\"1\" class=\"dataframe\">\n",
       "  <thead>\n",
       "    <tr style=\"text-align: right;\">\n",
       "      <th></th>\n",
       "      <th>Survived</th>\n",
       "      <th>died</th>\n",
       "    </tr>\n",
       "    <tr>\n",
       "      <th>Cabin</th>\n",
       "      <th></th>\n",
       "      <th></th>\n",
       "    </tr>\n",
       "  </thead>\n",
       "  <tbody>\n",
       "    <tr>\n",
       "      <th>A</th>\n",
       "      <td>0.466667</td>\n",
       "      <td>0.533333</td>\n",
       "    </tr>\n",
       "    <tr>\n",
       "      <th>B</th>\n",
       "      <td>0.744681</td>\n",
       "      <td>0.255319</td>\n",
       "    </tr>\n",
       "    <tr>\n",
       "      <th>C</th>\n",
       "      <td>0.593220</td>\n",
       "      <td>0.406780</td>\n",
       "    </tr>\n",
       "    <tr>\n",
       "      <th>D</th>\n",
       "      <td>0.757576</td>\n",
       "      <td>0.242424</td>\n",
       "    </tr>\n",
       "    <tr>\n",
       "      <th>E</th>\n",
       "      <td>0.750000</td>\n",
       "      <td>0.250000</td>\n",
       "    </tr>\n",
       "  </tbody>\n",
       "</table>\n",
       "</div>"
      ],
      "text/plain": [
       "       Survived      died\n",
       "Cabin                    \n",
       "A      0.466667  0.533333\n",
       "B      0.744681  0.255319\n",
       "C      0.593220  0.406780\n",
       "D      0.757576  0.242424\n",
       "E      0.750000  0.250000"
      ]
     },
     "execution_count": 79,
     "metadata": {},
     "output_type": "execute_result"
    }
   ],
   "source": [
    "prob_df['died'] = 1 - prob_df['Survived']\n",
    "prob_df.head()"
   ]
  },
  {
   "cell_type": "code",
   "execution_count": 80,
   "metadata": {},
   "outputs": [
    {
     "data": {
      "text/html": [
       "<div>\n",
       "<style scoped>\n",
       "    .dataframe tbody tr th:only-of-type {\n",
       "        vertical-align: middle;\n",
       "    }\n",
       "\n",
       "    .dataframe tbody tr th {\n",
       "        vertical-align: top;\n",
       "    }\n",
       "\n",
       "    .dataframe thead th {\n",
       "        text-align: right;\n",
       "    }\n",
       "</style>\n",
       "<table border=\"1\" class=\"dataframe\">\n",
       "  <thead>\n",
       "    <tr style=\"text-align: right;\">\n",
       "      <th></th>\n",
       "      <th>Survived</th>\n",
       "      <th>died</th>\n",
       "      <th>ratio</th>\n",
       "    </tr>\n",
       "    <tr>\n",
       "      <th>Cabin</th>\n",
       "      <th></th>\n",
       "      <th></th>\n",
       "      <th></th>\n",
       "    </tr>\n",
       "  </thead>\n",
       "  <tbody>\n",
       "    <tr>\n",
       "      <th>A</th>\n",
       "      <td>0.466667</td>\n",
       "      <td>0.533333</td>\n",
       "      <td>0.875000</td>\n",
       "    </tr>\n",
       "    <tr>\n",
       "      <th>B</th>\n",
       "      <td>0.744681</td>\n",
       "      <td>0.255319</td>\n",
       "      <td>2.916667</td>\n",
       "    </tr>\n",
       "    <tr>\n",
       "      <th>C</th>\n",
       "      <td>0.593220</td>\n",
       "      <td>0.406780</td>\n",
       "      <td>1.458333</td>\n",
       "    </tr>\n",
       "    <tr>\n",
       "      <th>D</th>\n",
       "      <td>0.757576</td>\n",
       "      <td>0.242424</td>\n",
       "      <td>3.125000</td>\n",
       "    </tr>\n",
       "    <tr>\n",
       "      <th>E</th>\n",
       "      <td>0.750000</td>\n",
       "      <td>0.250000</td>\n",
       "      <td>3.000000</td>\n",
       "    </tr>\n",
       "  </tbody>\n",
       "</table>\n",
       "</div>"
      ],
      "text/plain": [
       "       Survived      died     ratio\n",
       "Cabin                              \n",
       "A      0.466667  0.533333  0.875000\n",
       "B      0.744681  0.255319  2.916667\n",
       "C      0.593220  0.406780  1.458333\n",
       "D      0.757576  0.242424  3.125000\n",
       "E      0.750000  0.250000  3.000000"
      ]
     },
     "execution_count": 80,
     "metadata": {},
     "output_type": "execute_result"
    }
   ],
   "source": [
    "prob_df['ratio'] = prob_df['Survived'] / prob_df['died']\n",
    "prob_df.head()"
   ]
  },
  {
   "cell_type": "code",
   "execution_count": 81,
   "metadata": {},
   "outputs": [],
   "source": [
    "prob_dictionary = prob_df['ratio'].to_dict()"
   ]
  },
  {
   "cell_type": "code",
<<<<<<< HEAD
   "execution_count": 36,
=======
   "execution_count": 82,
>>>>>>> 0964895ef5c0c171e3fa178f4c6213ba73ff5cd4
   "metadata": {},
   "outputs": [
    {
     "data": {
      "text/html": [
       "<div>\n",
       "<style scoped>\n",
       "    .dataframe tbody tr th:only-of-type {\n",
       "        vertical-align: middle;\n",
       "    }\n",
       "\n",
       "    .dataframe tbody tr th {\n",
       "        vertical-align: top;\n",
       "    }\n",
       "\n",
       "    .dataframe thead th {\n",
       "        text-align: right;\n",
       "    }\n",
       "</style>\n",
       "<table border=\"1\" class=\"dataframe\">\n",
       "  <thead>\n",
       "    <tr style=\"text-align: right;\">\n",
       "      <th></th>\n",
       "      <th>Survived</th>\n",
       "      <th>Cabin</th>\n",
       "      <th>Prob_ratio</th>\n",
       "    </tr>\n",
       "  </thead>\n",
       "  <tbody>\n",
       "    <tr>\n",
       "      <th>0</th>\n",
       "      <td>0</td>\n",
       "      <td>M</td>\n",
       "      <td>0.428274</td>\n",
       "    </tr>\n",
       "    <tr>\n",
       "      <th>1</th>\n",
       "      <td>1</td>\n",
       "      <td>C</td>\n",
       "      <td>1.458333</td>\n",
       "    </tr>\n",
       "    <tr>\n",
       "      <th>2</th>\n",
       "      <td>1</td>\n",
       "      <td>M</td>\n",
       "      <td>0.428274</td>\n",
       "    </tr>\n",
       "    <tr>\n",
       "      <th>3</th>\n",
       "      <td>1</td>\n",
       "      <td>C</td>\n",
       "      <td>1.458333</td>\n",
       "    </tr>\n",
       "    <tr>\n",
       "      <th>4</th>\n",
       "      <td>0</td>\n",
       "      <td>M</td>\n",
       "      <td>0.428274</td>\n",
       "    </tr>\n",
       "  </tbody>\n",
       "</table>\n",
       "</div>"
      ],
      "text/plain": [
       "   Survived Cabin  Prob_ratio\n",
       "0         0     M    0.428274\n",
       "1         1     C    1.458333\n",
       "2         1     M    0.428274\n",
       "3         1     C    1.458333\n",
       "4         0     M    0.428274"
      ]
     },
<<<<<<< HEAD
     "execution_count": 36,
=======
     "execution_count": 82,
>>>>>>> 0964895ef5c0c171e3fa178f4c6213ba73ff5cd4
     "metadata": {},
     "output_type": "execute_result"
    }
   ],
   "source": [
    "df['Prob_ratio']= df['Cabin'].map(prob_dictionary)\n",
    "df.head()"
   ]
  },
  {
   "cell_type": "code",
   "execution_count": null,
   "metadata": {},
   "outputs": [],
   "source": []
  },
  {
   "cell_type": "code",
   "execution_count": null,
   "metadata": {},
   "outputs": [],
   "source": []
  },
  {
   "cell_type": "code",
   "execution_count": null,
   "metadata": {},
   "outputs": [],
   "source": []
  }
 ],
 "metadata": {
  "kernelspec": {
   "display_name": "Python 3",
   "language": "python",
   "name": "python3"
  },
  "language_info": {
   "codemirror_mode": {
    "name": "ipython",
    "version": 3
   },
   "file_extension": ".py",
   "mimetype": "text/x-python",
   "name": "python",
   "nbconvert_exporter": "python",
   "pygments_lexer": "ipython3",
   "version": "3.7.6"
  },
  "toc": {
   "base_numbering": 1,
   "nav_menu": {},
   "number_sections": true,
   "sideBar": true,
   "skip_h1_title": false,
   "title_cell": "Table of Contents",
   "title_sidebar": "Contents",
   "toc_cell": false,
   "toc_position": {},
   "toc_section_display": true,
   "toc_window_display": false
  }
 },
 "nbformat": 4,
 "nbformat_minor": 4
}
