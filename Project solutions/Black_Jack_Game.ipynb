{
 "cells": [
  {
   "cell_type": "code",
   "execution_count": 1,
   "metadata": {},
   "outputs": [],
   "source": [
    "import random   "
   ]
  },
  {
   "cell_type": "code",
   "execution_count": 2,
   "metadata": {},
   "outputs": [],
   "source": [
    "#Global variables\n",
    "suits = ('Hearts', 'Diamonds', 'Spades', 'Clubs')\n",
    "ranks = ('Two', 'Three', 'Four', 'Five', 'Six', 'Seven', 'Eight', 'Nine', 'Ten', 'Jack', 'Queen', 'King', 'Ace')\n",
    "values = {'Two':2, 'Three':3, 'Four':4, 'Five':5, 'Six':6, 'Seven':7, 'Eight':8, 'Nine':9, 'Ten':10, 'Jack':10,\n",
    "         'Queen':10, 'King':10, 'Ace':11}\n",
    "playing = True"
   ]
  },
  {
   "cell_type": "code",
   "execution_count": 3,
   "metadata": {},
   "outputs": [],
   "source": [
    "'''\n",
    "This is class to initialise a single card with its associated suit and rank. \n",
    "As the ranks are in string format so we are using dictionary to assigned values of each rank. \n",
    "'''\n",
    "\n",
    "class Card:\n",
    "    \n",
    "    def __init__(self,suit,rank):\n",
    "        self.suit = suit\n",
    "        self.rank = rank\n",
    "        self.value = values[rank]\n",
    "        \n",
    "    def __str__(self):\n",
    "        return self.rank +' of '+ self.suit"
   ]
  },
  {
   "cell_type": "code",
   "execution_count": 4,
   "metadata": {},
   "outputs": [],
   "source": [
    "'''\n",
    "This is a Deck class to create a new deck of cards.\n",
    "Here we are useing an empty list to store the objects of Card class which in turns \n",
    "save the actual cards in the lists.\n",
    "\n",
    "Shuffle() : This function returns nothing but randomly shuffles the deck of cards.\n",
    "\n",
    "deal_one() : This fuction is used to pick a card which is at the bottom of list \n",
    "                and provied that to Dealer as well as Player.  \n",
    "'''\n",
    "class Deck:\n",
    "    \n",
    "    def __init__(self):\n",
    "        self.all_cards= []\n",
    "        \n",
    "        for suit in suits:\n",
    "            for rank in ranks:\n",
    "                self.all_cards.append(Card(suit,rank))\n",
    "                \n",
    "    def shuffle(self):\n",
    "        random.shuffle(self.all_cards)\n",
    "        \n",
    "    def deal_one(self):\n",
    "        return self.all_cards.pop()"
   ]
  },
  {
   "cell_type": "code",
   "execution_count": 5,
   "metadata": {},
   "outputs": [],
   "source": [
    "'''\n",
    "This class is used to create cards list that is the cards which are in hands of \n",
    "player and dealer. This class also checks for total values of those cards in hands also\n",
    "tackle a situations while playing with Aces card.\n",
    "\n",
    "Here we are using an empty list to store the in hand cards of Player and Dealer.\n",
    "Also, we are using a value variable to keep track of values of their cards.\n",
    "The aces variable is used to keep track of aces in the game.\n",
    "\n",
    "add_card(): The method adds card to the hand of Player and Dealer from our Deck.\n",
    "            It also checks for associated values for each cards and add those values to check for black jack.\n",
    "\n",
    "adjust_aces(): In this, if the aces occurs first time in a game then the value of aces will be remains same but\n",
    "                if aces occurs second time then its value is adjusted to 1 according to game requirement.\n",
    "'''\n",
    "class Hand:\n",
    "    \n",
    "    def __init__(self):\n",
    "        self.cards = []\n",
    "        self.value = 0\n",
    "        self.aces = 0\n",
    "        \n",
    "    def add_card(self,card):\n",
    "        self.cards.append(card)\n",
    "        self.value += values[card.rank]\n",
    "        if card.rank == 'Ace':\n",
    "            self.aces+=1\n",
    "    \n",
    "    def adjust_aces(self):\n",
    "        while self.value >21 and self.aces:\n",
    "            self.value -=10\n",
    "            self.aces -=1"
   ]
  },
  {
   "cell_type": "code",
   "execution_count": 6,
   "metadata": {},
   "outputs": [
    {
     "name": "stdout",
     "output_type": "stream",
     "text": [
      "Ace of Hearts\n",
      "Six of Diamonds\n"
     ]
    }
   ],
   "source": [
    "new_deck = Deck()\n",
    "new_deck.shuffle()\n",
    "new_hand = Hand()\n",
    "new_hand.add_card(new_deck.deal_one())\n",
    "new_hand.add_card(new_deck.deal_one())\n",
    "for card in new_hand.cards:\n",
    "    print(card)"
   ]
  },
  {
   "cell_type": "code",
   "execution_count": 7,
   "metadata": {},
   "outputs": [],
   "source": [
    "'''\n",
    "Class Chips is created for checking placed bet is won or lost by Player with Dealer.\n",
    "It has total_balance as a available balance for playing for both Player and Dealer.\n",
    "We are assigning 100 as a initial balance for both player and Dealer.\n",
    "Initially bet will be 0 at the start of the game.\n",
    "\n",
    "win_bet() : This functions checks wheather player or dealer is won the bet and\n",
    "            add the value of bet to the balance of winner. \n",
    "\n",
    "lost_bet() : This functions checks wheather player or dealer is lost the bet and\n",
    "            suntracts the value of bet to the balance of looser.\n",
    "'''\n",
    "class Chips:\n",
    "    def __init__(self):\n",
    "        self.total_balance = 100\n",
    "        self.bet = 0\n",
    "        \n",
    "    def win_bet(self):\n",
    "        self.total_balance+=self.bet\n",
    "        \n",
    "    def lost_bet(self):\n",
    "        self.total_balance-=self.bet"
   ]
  },
  {
   "cell_type": "code",
   "execution_count": 8,
   "metadata": {},
   "outputs": [],
   "source": [
    "'''\n",
    "In this take_bet() function we pass object of Chips class as we are going to\n",
    "ask player to place a bet. For that we are going to take amount as an input for\n",
    "placing a bet. \n",
    "\n",
    "Using try/ except block we are taking proper amount from player for placing bet\n",
    "by checking invalid input and invalid amount entered by player.\n",
    "'''\n",
    "def take_bet(chips):\n",
    "    while True:\n",
    "        try:\n",
    "            chips.bet = int(input(\"Please enter the bet amount:\"))\n",
    "        except ValueError:\n",
    "            print(\"Sorry the value must be integer!\")\n",
    "        else:\n",
    "            if chips.bet>chips.total_balance:\n",
    "                print(\"No available funds for betting!\",chips.total_balance)\n",
    "            else:\n",
    "                break"
   ]
  },
  {
   "cell_type": "code",
   "execution_count": 9,
   "metadata": {},
   "outputs": [],
   "source": [
    "'''\n",
    "hit() fuction takes deck and hand as an input if player hits.\n",
    "If player hits then new card it added to players hand from deck and\n",
    "condition for aces is checked using adjust_aces() function from Hand class.\n",
    "'''\n",
    "def hit(deck,hand):\n",
    "    hand.add_card(deck.deal_one())\n",
    "    hand.adjust_aces()"
   ]
  },
  {
   "cell_type": "code",
   "execution_count": null,
   "metadata": {
    "code_folding": []
   },
   "outputs": [],
   "source": [
    "'''\n",
    "In this we ask player to hit or stand to proceed with game.\n",
    "If player goes for hit then he will get one card from deck.\n",
    "If player goes for stand then dealer is going to play.\n",
    "'''\n",
    "def hit_or_stand(deck,hand):\n",
    "    global playing  # to control an upcoming while loop\n",
    "    while True:\n",
    "        choice = input(\"Would you like to hit or stand ? Please enter either hit or stand!!!\")\n",
    "        if choice[0].lower() == 'h':\n",
    "            hit(deck,hand)\n",
    "        elif choice[0].lower() == 's':\n",
    "            print(\"Player is standing and Dealer is playing now!!!!\")\n",
    "            playing = False\n",
    "        else:\n",
    "            print(\"Wrong choice!!!!!\")\n",
    "            continue\n",
    "        break"
   ]
  },
  {
   "cell_type": "code",
   "execution_count": 10,
   "metadata": {},
   "outputs": [],
   "source": [
    "'''\n",
    "show_some(): this fuction is used to keep one card as hidden and show one card of dealer\n",
    "                and to show both cards of player.\n",
    "\n",
    "show_all(): this fucions reavels both cards of Player as well as Dealer.\n",
    "            As well as shows values of cards of both player and dealer.\n",
    "'''\n",
    "def show_some(player,dealer):\n",
    "    \n",
    "    print(\"Dealer's hand is: \")\n",
    "    print(dealer.cards[0])\n",
    "    \n",
    "    print(\"\\nPlayer's Hand:\", *player.cards, sep='\\n ')\n",
    "    \n",
    "def show_all(player,dealer):\n",
    "    \n",
    "    print(\"\\nDealer's Hand:\", *dealer.cards, sep='\\n ')\n",
    "    print(\"Dealer's Hand = \", dealer.value)\n",
    "        \n",
    "    print(\"\\nPlayer's Hand:\", *player.cards, sep='\\n ')\n",
    "    print(\"Player's Hand = \", player.value)"
   ]
  },
  {
   "cell_type": "code",
   "execution_count": null,
   "metadata": {},
   "outputs": [],
   "source": [
    "# PLayer busts means that player gonna loose the game. Hence we need player_busts function to write scenario for loosing.\n",
    "def player_busts(player,dealer,chip):\n",
    "    print(\"Player looses the game !!!!!\")\n",
    "    chip.lost_bet()\n",
    "\n",
    "def player_wins(player,dealer,chip):\n",
    "    print(\"Player wins the game !!!!\")\n",
    "    chip.win_bet()\n",
    "    \n",
    "\n",
    "def dealer_busts(player,dealer,chip):\n",
    "    print(\"Dealer looses the game !!!!\")\n",
    "    chip.win_bet()\n",
    "    \n",
    "def dealer_wins(player,dealer,chip):\n",
    "    print(\"Dealer wins the game !!!!\")\n",
    "    chip.lost_bet()\n",
    "    \n",
    "def push(player,dealer,chip):\n",
    "    print(\"Its a tie between Player and Dealer !!!!\")"
   ]
  },
  {
   "cell_type": "code",
   "execution_count": null,
   "metadata": {},
   "outputs": [],
   "source": []
  },
  {
   "cell_type": "code",
   "execution_count": null,
   "metadata": {},
   "outputs": [],
   "source": []
  },
  {
   "cell_type": "code",
   "execution_count": null,
   "metadata": {},
   "outputs": [],
   "source": []
  },
  {
   "cell_type": "code",
   "execution_count": null,
   "metadata": {},
   "outputs": [],
   "source": []
  },
  {
   "cell_type": "code",
   "execution_count": null,
   "metadata": {},
   "outputs": [],
   "source": []
  },
  {
   "cell_type": "code",
   "execution_count": null,
   "metadata": {},
   "outputs": [],
   "source": []
  }
 ],
 "metadata": {
  "kernelspec": {
   "display_name": "Python 3",
   "language": "python",
   "name": "python3"
  },
  "language_info": {
   "codemirror_mode": {
    "name": "ipython",
    "version": 3
   },
   "file_extension": ".py",
   "mimetype": "text/x-python",
   "name": "python",
   "nbconvert_exporter": "python",
   "pygments_lexer": "ipython3",
   "version": "3.7.6"
  },
  "toc": {
   "base_numbering": 1,
   "nav_menu": {},
   "number_sections": true,
   "sideBar": true,
   "skip_h1_title": false,
   "title_cell": "Table of Contents",
   "title_sidebar": "Contents",
   "toc_cell": false,
   "toc_position": {},
   "toc_section_display": true,
   "toc_window_display": false
  }
 },
 "nbformat": 4,
 "nbformat_minor": 2
}
