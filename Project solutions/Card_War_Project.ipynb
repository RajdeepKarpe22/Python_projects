{
 "cells": [
  {
   "cell_type": "code",
   "execution_count": 10,
   "metadata": {},
   "outputs": [],
   "source": [
    "import random\n",
    "\n",
    "#Global variables\n",
    "suits = ('Hearts', 'Diamonds', 'Spades', 'Clubs')\n",
    "ranks = ('Two', 'Three', 'Four', 'Five', 'Six', 'Seven', 'Eight', 'Nine', 'Ten', 'Jack', 'Queen', 'King', 'Ace')\n",
    "values = {'Two':2, 'Three':3, 'Four':4, 'Five':5, 'Six':6, 'Seven':7, 'Eight':8, 'Nine':9, 'Ten':10, 'Jack':10,\n",
    "         'Queen':10, 'King':10, 'Ace':11}"
   ]
  },
  {
   "cell_type": "code",
   "execution_count": 3,
   "metadata": {},
   "outputs": [],
   "source": [
    "#Class card for creating cards\n",
    "class Card:\n",
    "    def __init__(self,suits,ranks):\n",
    "        self.suits= suits\n",
    "        self.ranks= ranks\n",
    "        self.values= values[ranks]\n",
    "        \n",
    "    def __str__(self):\n",
    "        return self.ranks+ \" of \" + self.suits\n",
    "        "
   ]
  },
  {
   "cell_type": "code",
   "execution_count": null,
   "metadata": {},
   "outputs": [],
   "source": [
    "# creating class deck to create whole new deck for game\n",
    "\n",
    "class Deck:\n",
    "    def __init__(self):\n",
    "        self.all_cards = []\n",
    "        \n",
    "        for suits in suits:\n",
    "            for ranks in ranks:\n",
    "                #Here we are creating whole deck\n",
    "                deck_of_cards = Card(suits,ranks)\n",
    "                self.all_cards.append(deck_of_cards)\n",
    "                \n",
    "                # another way\n",
    "                #self.all_cards.append(Card(suits,ranks))\n",
    "                \n",
    "    def shuffle(self):\n",
    "        # Nothing is going to be return as its internal operation to created shuffled deck\n",
    "        random.shuffle(self.all_cards)\n",
    "    \n",
    "    def deal_one(self):\n",
    "        # One card from deck which is at last position is popped out using this function\n",
    "        return self.all_cards.pop()\n",
    "                "
   ]
  },
  {
   "cell_type": "code",
   "execution_count": null,
   "metadata": {},
   "outputs": [],
   "source": [
    "# Creating a players class to provide all players activities\n",
    "class Player:\n",
    "    def __init__(self,name):\n",
    "        self.name = name\n",
    "        self.all_cards=[]\n",
    "        \n",
    "    def remove_one(self):\n",
    "        self.all_cards.pop(0)\n",
    "        \n",
    "    def add_cards(self,new_cards):\n",
    "        if type(new_cards) == type([]):\n",
    "            # This is for adding multiple number of cards at the bottom of our player hand.\n",
    "            self.all_cards.extend(new_cards)\n",
    "        else:\n",
    "            # This for adding single card at the bottom of our players hand \n",
    "            self.all_cards.append(new_cards)\n",
    "    \n",
    "    def __str__(self):\n",
    "        return f'Player {self.name} has {len(self.all_cards)} cards.'"
   ]
  },
  {
   "cell_type": "code",
   "execution_count": null,
   "metadata": {},
   "outputs": [],
   "source": []
  }
 ],
 "metadata": {
  "kernelspec": {
   "display_name": "Python 3",
   "language": "python",
   "name": "python3"
  },
  "language_info": {
   "codemirror_mode": {
    "name": "ipython",
    "version": 3
   },
   "file_extension": ".py",
   "mimetype": "text/x-python",
   "name": "python",
   "nbconvert_exporter": "python",
   "pygments_lexer": "ipython3",
   "version": "3.7.1"
  }
 },
 "nbformat": 4,
 "nbformat_minor": 2
}
