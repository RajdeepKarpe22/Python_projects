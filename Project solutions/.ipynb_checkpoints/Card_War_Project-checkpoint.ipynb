{
 "cells": [
  {
   "cell_type": "code",
   "execution_count": null,
   "metadata": {},
   "outputs": [],
   "source": [
    "import random\n",
    "\n",
    "#Global variables\n",
    "suits = ('Hearts', 'Diamonds', 'Spades', 'Clubs')\n",
    "ranks = ('Two', 'Three', 'Four', 'Five', 'Six', 'Seven', 'Eight', 'Nine', 'Ten', 'Jack', 'Queen', 'King', 'Ace')\n",
    "values = {'Two':2, 'Three':3, 'Four':4, 'Five':5, 'Six':6, 'Seven':7, 'Eight':8, 'Nine':9, 'Ten':10, 'Jack':11,\n",
    "         'Queen':12, 'King':13, 'Ace':14}"
   ]
  },
  {
   "cell_type": "code",
   "execution_count": null,
   "metadata": {},
   "outputs": [],
   "source": [
    "#Class card for creating cards\n",
    "class Card:\n",
    "    def __init__(self,suit,rank):\n",
    "        self.suit = suits\n",
    "        self.rank = ranks\n",
    "        self.value = values[rank]\n",
    "        \n",
    "    def __str__(self):\n",
    "        return self.ranks+ \" of \" + self.suits\n",
    "        "
   ]
  },
  {
   "cell_type": "code",
   "execution_count": null,
   "metadata": {},
   "outputs": [],
   "source": [
    "# creating class deck to create whole new deck for game\n",
    "\n",
    "class Deck:\n",
    "    def __init__(self):\n",
    "        self.all_cards = []\n",
    "        \n",
    "        for suit in suits:\n",
    "            for rank in ranks:\n",
    "                #Here we are creating whole deck\n",
    "                deck_of_cards = Card(suit,rank)\n",
    "                self.all_cards.append(deck_of_cards)\n",
    "                \n",
    "                # another way\n",
    "                #self.all_cards.append(Card(suits,ranks))\n",
    "                \n",
    "    def shuffle(self):\n",
    "        # Nothing is going to be return as its internal operation to created shuffled deck\n",
    "        random.shuffle(self.all_cards)\n",
    "    \n",
    "    def deal_one(self):\n",
    "        # One card from deck which is at last position is popped out using this function\n",
    "        return self.all_cards.pop()\n",
    "                "
   ]
  },
  {
   "cell_type": "code",
   "execution_count": null,
   "metadata": {},
   "outputs": [],
   "source": [
    "# Creating a players class to provide all players activities\n",
    "class Player:\n",
    "    def __init__(self,name):\n",
    "        self.name = name\n",
    "        self.all_cards=[]\n",
    "        \n",
    "    def remove_one(self):\n",
    "        return self.all_cards.pop(0)\n",
    "        \n",
    "    def add_cards(self,new_cards):\n",
    "        if type(new_cards) == type([]):\n",
    "            # This is for adding multiple number of cards at the bottom of our player hand.\n",
    "            self.all_cards.extend(new_cards)\n",
    "        else:\n",
    "            # This for adding single card at the bottom of our players hand \n",
    "            self.all_cards.append(new_cards)\n",
    "    \n",
    "    def __str__(self):\n",
    "        return f'Player {self.name} has {len(self.all_cards)} cards.'"
   ]
  },
  {
   "cell_type": "code",
   "execution_count": null,
   "metadata": {},
   "outputs": [],
   "source": [
    "player1 = Player(\"Pratik\")\n",
    "player2 = Player(\"Raj\")\n",
    "\n",
    "new_deck = Deck()\n",
    "new_deck.shuffle()\n",
    "\n",
    "for x in range(26):\n",
    "    player1.add_cards(new_deck.deal_one())\n",
    "    player2.add_cards(new_deck.deal_one())"
   ]
  },
  {
   "cell_type": "code",
   "execution_count": null,
   "metadata": {},
   "outputs": [],
   "source": [
    "len(player1.all_cards)"
   ]
  },
  {
   "cell_type": "code",
   "execution_count": null,
   "metadata": {},
   "outputs": [],
   "source": [
    "game_on = True"
   ]
  },
  {
   "cell_type": "code",
   "execution_count": null,
   "metadata": {},
   "outputs": [],
   "source": [
    "round_num = 0\n",
    "\n",
    "while game_on:\n",
    "    round_num += 1\n",
    "    print(f\"round {round_num}\")\n",
    "    \n",
    "    if len(player1.all_cards) == 0:\n",
    "        print(f\"{player1} lost the game!!!!!\")\n",
    "        print(f\"{player2} won the game!!!\")\n",
    "        game_on= False\n",
    "        break\n",
    "        \n",
    "    if len(player2.all_cards) == 0:\n",
    "        print(f\"{player2} lost the game!!!!! \")\n",
    "        print(f\"{player1} won the game!!!\")\n",
    "        game_on= False\n",
    "        break\n",
    "        \n",
    "    #Starting a New round here    \n",
    "    player1_hand_cards=[]\n",
    "    player1_hand_cards.append(player1.remove_one())\n",
    "    \n",
    "    player2_hand_cards=[]\n",
    "    player2_hand_cards.append(player2.remove_one())\n",
    "    \n",
    "    war = True\n",
    "    \n",
    "    while war:\n",
    "        \n",
    "        if player1_hand_cards[-1].value > player2_hand_cards[-1].value:\n",
    "            player1.add_cards(player1_hand_cards)\n",
    "            player1.add_cards(player2_hand_cards)\n",
    "            war= False\n",
    "            \n",
    "        elif player1_hand_cards[-1].value < player2_hand_cards[-1].value:\n",
    "            player2.add_cards(player1_hand_cards)\n",
    "            player2.add_cards(player2_hand_cards)\n",
    "            war= False\n",
    "            \n",
    "        else:\n",
    "            print(\"it is a war\")\n",
    "            \n",
    "            if len(player1.all_cards) < 5:\n",
    "                print(f\"{player1} does not have enough cards for declaring war!!! \")\n",
    "                print(f\"{player2} won the game!!! \")\n",
    "                game_on = False\n",
    "                break\n",
    "                \n",
    "            elif len(player2.all_cards) < 5:\n",
    "                print(f\"{player2} does not have enough cards for declaring war!!! \")\n",
    "                print(f\"{player1} won the game!!! \")\n",
    "                game_on = False\n",
    "                break\n",
    "                \n",
    "            else:\n",
    "                for x in range(5):\n",
    "                    player1_hand_cards.append(player1.remove_one())\n",
    "                    player2_hand_cards.append(player2.remove_one())\n",
    "                    "
   ]
  },
  {
   "cell_type": "code",
   "execution_count": null,
   "metadata": {},
   "outputs": [],
   "source": []
  }
 ],
 "metadata": {
  "kernelspec": {
   "display_name": "Python 3",
   "language": "python",
   "name": "python3"
  },
  "language_info": {
   "codemirror_mode": {
    "name": "ipython",
    "version": 3
   },
   "file_extension": ".py",
   "mimetype": "text/x-python",
   "name": "python",
   "nbconvert_exporter": "python",
   "pygments_lexer": "ipython3",
   "version": "3.7.1"
  }
 },
 "nbformat": 4,
 "nbformat_minor": 2
}
