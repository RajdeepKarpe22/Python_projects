{
 "cells": [
  {
   "cell_type": "code",
   "execution_count": null,
   "metadata": {},
   "outputs": [],
   "source": [
    "from IPython.display import clear_output\n",
    "clear_output()"
   ]
  },
  {
   "cell_type": "code",
   "execution_count": null,
   "metadata": {},
   "outputs": [],
   "source": [
    "\n",
    "def show_board(board):\n",
    "    print(board[1]+ '|' +board[2]+ '|' +board[3])\n",
    "    print(\"-+-+-\")\n",
    "    print(board[4]+ '|' +board[5]+ '|' +board[6])\n",
    "    print(\"-+-+-\")\n",
    "    print(board[7]+ '|' +board[8]+ '|' +board[9])"
   ]
  },
  {
   "cell_type": "code",
   "execution_count": null,
   "metadata": {},
   "outputs": [],
   "source": []
  },
  {
   "cell_type": "code",
   "execution_count": 3,
   "metadata": {},
   "outputs": [],
   "source": [
    "def player_choose():\n",
    "    \n",
    "    choice = ' '\n",
    "\n",
    "    while not (choice == 'X' or choice == 'O'):\n",
    "        choice = input(\"Please choose X or O:\").upper()\n",
    "    \n",
    "        if choice not in ['X','x','O','o']:\n",
    "            clear_output()\n",
    "            print(\"Sorry wrong choice please enter a valid choice\")\n",
    "        if choice == 'X':\n",
    "            return 'X','O'\n",
    "        else:\n",
    "            return 'O','X'\n"
   ]
  },
  {
   "cell_type": "code",
   "execution_count": 4,
   "metadata": {},
   "outputs": [],
   "source": [
    "def position_choice(board):\n",
    "    pos_choice = 0\n",
    "    \n",
    "    while pos_choice not in [1,2,3,4,5,6,7,8,9] or not free_space(board,pos_choice):\n",
    "        pos_choice = int(input(\"Please enter the number between (1-9):\")) \n",
    "        \n",
    "        if pos_choice not in [1,2,3,4,5,6,7,8,9]:\n",
    "            clear_output()\n",
    "            print(\"Position invalid. Please enter the correct number.\")\n",
    "    \n",
    "    return pos_choice"
   ]
  },
  {
   "cell_type": "code",
   "execution_count": null,
   "metadata": {},
   "outputs": [],
   "source": []
  },
  {
   "cell_type": "code",
   "execution_count": 5,
   "metadata": {},
   "outputs": [],
   "source": [
    "# function for deciding who will play first.\n",
    "import random\n",
    "def player_turn():\n",
    "    if random.randint(0,1) == 1:\n",
    "        return 'Player1'\n",
    "    else:\n",
    "        return 'Player2'"
   ]
  },
  {
   "cell_type": "code",
   "execution_count": 6,
   "metadata": {
    "code_folding": []
   },
   "outputs": [],
   "source": [
    "def win_check(board,choice):\n",
    "    \n",
    "    return ((board[7] == choice and board[8] == choice and board[9] == choice) or # across the top\n",
    "    (board[4] == choice and board[5] == choice and board[6] == choice) or # across the middle\n",
    "    (board[1] == choice and board[2] == choice and board[3] == choice) or # across the bottom\n",
    "    (board[7] == choice and board[4] == choice and board[1] == choice) or # down the middle\n",
    "    (board[8] == choice and board[5] == choice and board[2] == choice) or # down the middle\n",
    "    (board[9] == choice and board[6] == choice and board[3] == choice) or # down the right side\n",
    "    (board[7] == choice and board[5] == choice and board[3] == choice) or # diagonal\n",
    "    (board[9] == choice and board[5] == choice and board[1] == choice)) # diagonal"
   ]
  },
  {
   "cell_type": "code",
   "execution_count": 7,
   "metadata": {},
   "outputs": [],
   "source": [
    "# Function for marking each players choice on board\n",
    "def place_mark(board,pos_choice,choice):\n",
    "    board[pos_choice] = choice"
   ]
  },
  {
   "cell_type": "code",
   "execution_count": 8,
   "metadata": {},
   "outputs": [],
   "source": [
    "def full_board(board):\n",
    "    for i in range(1,10):\n",
    "        if free_space(board,i):\n",
    "            return False\n",
    "    return True"
   ]
  },
  {
   "cell_type": "code",
   "execution_count": 9,
   "metadata": {},
   "outputs": [],
   "source": [
    "# Function to check free space on board\n",
    "def free_space(board, choice):\n",
    "    return board[choice]== ' '"
   ]
  },
  {
   "cell_type": "code",
   "execution_count": null,
   "metadata": {},
   "outputs": [],
   "source": []
  },
  {
   "cell_type": "code",
   "execution_count": 11,
   "metadata": {
    "code_folding": []
   },
   "outputs": [
    {
     "name": "stdout",
     "output_type": "stream",
     "text": [
      "TIC-TAC-TOE GAME\n",
      " | | \n",
      "-+-+-\n",
      " | | \n",
      "-+-+-\n",
      " | | \n",
      "Please choose X or O:x\n",
      " | | \n",
      "-+-+-\n",
      " | | \n",
      "-+-+-\n",
      " | | \n",
      "player 1 turn\n",
      "Please enter the number between (1-9):2\n",
      " |X| \n",
      "-+-+-\n",
      " | | \n",
      "-+-+-\n",
      " | | \n"
     ]
    }
   ],
   "source": [
    "print(\"TIC-TAC-TOE GAME\")\n",
    "board = ['1','2','3',\n",
    "        '4','5','6',\n",
    "        '7','8','9']\n",
    "gameon = True\n",
    "while True:\n",
    "    board = [' '] * 10\n",
    "    show_board(board)\n",
    "    player1,player2 = player_choose()\n",
    "    turn = player_turn()\n",
    "    \n",
    "    while gameon:\n",
    "        if turn == 'Player1':\n",
    "            show_board(board)\n",
    "            print(\"player 1 turn\")\n",
    "            player_choice= position_choice(board)\n",
    "            place_mark(board,player_choice,player1)\n",
    "            show_board(board)\n",
    "\n",
    "            if win_check(board,player1):\n",
    "                show_board(board)\n",
    "                print(\"congratulations u won\")\n",
    "                gameon = False\n",
    "            else:\n",
    "                if full_board(board):\n",
    "                    show_board(board)\n",
    "                    print(\"Its draw!!!!!!!!\")\n",
    "                    break\n",
    "                else:\n",
    "                    turn= 'Player2'\n",
    "\n",
    "        else:\n",
    "            show_board(board)\n",
    "            print(\"player 2 turn\")\n",
    "            player_choice= position_choice(board)\n",
    "            place_mark(board,player_choice,player2)\n",
    "            show_board(board)\n",
    "            if win_check(board,player2):\n",
    "                show_board(board)\n",
    "                print(\"congratulations u won\")\n",
    "                gameon = False\n",
    "            else:\n",
    "                if full_board(board):\n",
    "                    show_board(board)\n",
    "                    print(\"Its draw!!!!!!!!\")\n",
    "                    break\n",
    "                else:\n",
    "                    turn= 'Player1'"
   ]
  },
  {
   "cell_type": "code",
   "execution_count": null,
   "metadata": {},
   "outputs": [],
   "source": []
  }
 ],
 "metadata": {
  "kernelspec": {
   "display_name": "Python 3",
   "language": "python",
   "name": "python3"
  },
  "language_info": {
   "codemirror_mode": {
    "name": "ipython",
    "version": 3
   },
   "file_extension": ".py",
   "mimetype": "text/x-python",
   "name": "python",
   "nbconvert_exporter": "python",
   "pygments_lexer": "ipython3",
   "version": "3.7.6"
  },
  "toc": {
   "base_numbering": 1,
   "nav_menu": {},
   "number_sections": true,
   "sideBar": true,
   "skip_h1_title": false,
   "title_cell": "Table of Contents",
   "title_sidebar": "Contents",
   "toc_cell": false,
   "toc_position": {},
   "toc_section_display": true,
   "toc_window_display": false
  }
 },
 "nbformat": 4,
 "nbformat_minor": 4
}
